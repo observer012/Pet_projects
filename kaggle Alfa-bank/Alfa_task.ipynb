{
 "cells": [
  {
   "cell_type": "markdown",
   "id": "af835880-4228-4f43-860c-8e100afeae21",
   "metadata": {
    "editable": true,
    "slideshow": {
     "slide_type": ""
    },
    "tags": []
   },
   "source": [
    "# Предсказание банковских транзакций"
   ]
  },
  {
   "cell_type": "markdown",
   "id": "ff49991f-8879-48d6-9f90-23de6ea98865",
   "metadata": {},
   "source": [
    "**Описание задачи**<br/>\n",
    "Одним из самых ценных источников информации о клиенте являются данные о банковских транзакциях.</br>\n",
    "В этом соревновании участникам предлагается предсказать будущие траты клиента, используя информацию о совершенных тратах.</br>\n",
    "\n",
    "**Полезная информация**</br>\n",
    "Для понимания представленных данных будет полезна следующая <a href=\"https://www.banki.ru/wikibank/mcc-kod/\">*статья*</a></br>\n",
    "\n",
    "<a href=\"https://mcc-codes.ru/code\">Описание MCC-кодов.</a></br>\n",
    "\n",
    "**BaseLine**</br>\n",
    "Для быстрого старта можно использовать решение, приведенное ниже:</br>\n",
    "https://www.kaggle.com/prampampam/baseline-popular-transactions\n",
    "\n",
    "**Формат решения задачи**</br>\n",
    "Решение ожидаем в виде файла csv. Пример: submission_file.csv из <a href=\"https://www.kaggle.com/competitions/alfabank-campus/data\">раздела Data.</a></br>\n",
    "\n",
    "**Вопросы**</br>\n",
    "https://www.kaggle.com/competitions/alfabank-campus/discussion/442418\n",
    "\n",
    "**Метрика качества**</br>\n",
    "<a href=\"https://habr.com/ru/companies/econtenta/articles/303458\">**MAP@10**</a></br>\n",
    "\n",
    "**Описание набора данных**\n",
    "\n",
    "\n"
   ]
  },
  {
   "cell_type": "markdown",
   "id": "52d123b5-16dd-4fc3-bdb8-8d478ad4be32",
   "metadata": {},
   "source": [
    "**File descriptions**</br>\n",
    "1. df_train.csv — данные для обучения предиктиного алгоритма\n",
    "2. df_test.csv — тестовый датасет\n",
    "3. submission_file.csv — пример файла сабмита клиента"
   ]
  },
  {
   "cell_type": "markdown",
   "id": "ed663ab4-bc03-4835-b717-327ca507f496",
   "metadata": {},
   "source": [
    "**Data fields** </br>\n",
    "1. df_train.csv\n",
    "   - data - история трат клиентов (последовательность mcc-кодов в хронологическом порядке);\n",
    "   - target - последовательность будущих трат клиента.\n",
    "3. df_test.csv\n",
    "   - Id - идентификатор клиента;\n",
    "   - история трат клиентов (последовательность mcc-кодов в хронологическом порядке). \n",
    "5. submission_file.scv\n",
    "   - Id - идентификатор клиента;\n",
    "   - Predicted - предсказание следующих 10 транзакций клиента."
   ]
  },
  {
   "cell_type": "markdown",
   "id": "f2392309-ba55-4fb4-b41d-5efe4199d348",
   "metadata": {},
   "source": [
    "## Получение данных"
   ]
  },
  {
   "cell_type": "markdown",
   "id": "f87dc201-410b-42ba-9594-30f2cd76cd63",
   "metadata": {},
   "source": [
    "Общая концепция: \n",
    "1. Избавиться от выбросов\n",
    "2. Определить количество значений у каждого id, построить ящик с усами, оставить только ниболее большое количество значений или то количество значений, соответствующее выборке с предсказаниями.\n",
    "3. Обучить модель на данных\n",
    "4. Предсказать значения для нескольких случаев(10)"
   ]
  },
  {
   "cell_type": "markdown",
   "id": "4ec43cf1-9428-4cf4-81ff-a1665b9695b2",
   "metadata": {},
   "source": [
    "Произведём загрузку данных, библиотек и их компонентов"
   ]
  },
  {
   "cell_type": "code",
   "execution_count": 1,
   "id": "f1691b45-1bd9-4e9c-b278-d28e1ba11090",
   "metadata": {},
   "outputs": [],
   "source": [
    "import pandas as pd\n",
    "import numpy as np\n",
    "from IPython.display import display \n",
    "import matplotlib.pyplot as plt\n",
    "\n",
    "from termcolor import colored"
   ]
  },
  {
   "cell_type": "markdown",
   "id": "1552f00b-476b-4521-aea2-7120c6d0e0eb",
   "metadata": {},
   "source": [
    "Определим функцию для загрузки файла"
   ]
  },
  {
   "cell_type": "code",
   "execution_count": 2,
   "id": "2f113d46-576f-4beb-9760-8289ed129300",
   "metadata": {},
   "outputs": [],
   "source": [
    "def download_file(name, sep=';'):\n",
    "    try:\n",
    "        data = pd.read_csv('data/' + name, index_col ='Id', sep=sep)\n",
    "        return data\n",
    "    except Exception as _:\n",
    "        print('Загрузка файла вызвала ошибку\\n', _)"
   ]
  },
  {
   "cell_type": "markdown",
   "id": "aeed7ad5-8c7c-459f-b7e2-da71acf6c9a9",
   "metadata": {},
   "source": [
    "Получим наборы данных для изучения"
   ]
  },
  {
   "cell_type": "code",
   "execution_count": 3,
   "id": "021bf506-8576-4aef-97a2-1fcc7dc7418e",
   "metadata": {},
   "outputs": [],
   "source": [
    "df_train = download_file('df_train.csv')\n",
    "df_test = download_file('df_test.csv')\n",
    "submission_baseline_2 = download_file('submission_baseline_2.csv', sep=',')"
   ]
  },
  {
   "cell_type": "markdown",
   "id": "26f40b3b-87ce-4478-80f6-bed4d56bd2ba",
   "metadata": {},
   "source": [
    "**Заключение**\\\n",
    "Данные загружены, однако не ясно, что они из себя представляют. Посмотрим на это."
   ]
  },
  {
   "cell_type": "markdown",
   "id": "fadd44d2-4065-4a9a-a3c5-fd0a42106128",
   "metadata": {
    "editable": true,
    "slideshow": {
     "slide_type": ""
    },
    "tags": []
   },
   "source": [
    "### Исследование структуры данных"
   ]
  },
  {
   "cell_type": "markdown",
   "id": "b3eb2761-9b20-48c0-b81e-293c2910a04e",
   "metadata": {},
   "source": [
    "#### df_train"
   ]
  },
  {
   "cell_type": "code",
   "execution_count": 4,
   "id": "4fe1ad33-0386-4665-99d9-ac1fbf60a879",
   "metadata": {},
   "outputs": [
    {
     "data": {
      "text/html": [
       "<div>\n",
       "<style scoped>\n",
       "    .dataframe tbody tr th:only-of-type {\n",
       "        vertical-align: middle;\n",
       "    }\n",
       "\n",
       "    .dataframe tbody tr th {\n",
       "        vertical-align: top;\n",
       "    }\n",
       "\n",
       "    .dataframe thead th {\n",
       "        text-align: right;\n",
       "    }\n",
       "</style>\n",
       "<table border=\"1\" class=\"dataframe\">\n",
       "  <thead>\n",
       "    <tr style=\"text-align: right;\">\n",
       "      <th></th>\n",
       "      <th>Data</th>\n",
       "      <th>Target</th>\n",
       "    </tr>\n",
       "    <tr>\n",
       "      <th>Id</th>\n",
       "      <th></th>\n",
       "      <th></th>\n",
       "    </tr>\n",
       "  </thead>\n",
       "  <tbody>\n",
       "    <tr>\n",
       "      <th>0</th>\n",
       "      <td>4814,4814,6010,6011,4814,6011,6011,4814,6011,6...</td>\n",
       "      <td>4814,4814,4814,4814,5411,4814,4814,4814,4814,4814</td>\n",
       "    </tr>\n",
       "    <tr>\n",
       "      <th>1</th>\n",
       "      <td>6011,6011,6011,6011,6011,6011,6011,4814,4814,4...</td>\n",
       "      <td>4814,6011,4814,6011,4814,4814,6011,4814,6011,4814</td>\n",
       "    </tr>\n",
       "  </tbody>\n",
       "</table>\n",
       "</div>"
      ],
      "text/plain": [
       "                                                 Data  \\\n",
       "Id                                                      \n",
       "0   4814,4814,6010,6011,4814,6011,6011,4814,6011,6...   \n",
       "1   6011,6011,6011,6011,6011,6011,6011,4814,4814,4...   \n",
       "\n",
       "                                               Target  \n",
       "Id                                                     \n",
       "0   4814,4814,4814,4814,5411,4814,4814,4814,4814,4814  \n",
       "1   4814,6011,4814,6011,4814,4814,6011,4814,6011,4814  "
      ]
     },
     "execution_count": 4,
     "metadata": {},
     "output_type": "execute_result"
    }
   ],
   "source": [
    "df_train.head(2)"
   ]
  },
  {
   "cell_type": "code",
   "execution_count": 5,
   "id": "bbbd0b4d-b618-4f21-a65b-901a613566db",
   "metadata": {},
   "outputs": [
    {
     "data": {
      "text/plain": [
       "'4814,4814,6010,6011,'"
      ]
     },
     "execution_count": 5,
     "metadata": {},
     "output_type": "execute_result"
    }
   ],
   "source": [
    "df_train.loc[0, 'Data'][:20]"
   ]
  },
  {
   "cell_type": "markdown",
   "id": "c499595a-b931-4d65-8bac-85af093ba374",
   "metadata": {},
   "source": [
    "*Похоже, что данные имеют строчный формат*"
   ]
  },
  {
   "cell_type": "code",
   "execution_count": 6,
   "id": "35cea3d5-334d-41fa-a08d-eb8f03ae02cf",
   "metadata": {},
   "outputs": [
    {
     "data": {
      "text/plain": [
       "str"
      ]
     },
     "execution_count": 6,
     "metadata": {},
     "output_type": "execute_result"
    }
   ],
   "source": [
    "type(df_train.loc[0, 'Data'])"
   ]
  },
  {
   "cell_type": "code",
   "execution_count": 7,
   "id": "ff94e38e-09e1-4298-998d-c996fcb276b9",
   "metadata": {},
   "outputs": [
    {
     "data": {
      "text/plain": [
       "str"
      ]
     },
     "execution_count": 7,
     "metadata": {},
     "output_type": "execute_result"
    }
   ],
   "source": [
    "type(df_train.loc[0, 'Target'])"
   ]
  },
  {
   "cell_type": "code",
   "execution_count": 8,
   "id": "663f0428-551b-45c1-9511-bdfa5ac54225",
   "metadata": {},
   "outputs": [
    {
     "name": "stdout",
     "output_type": "stream",
     "text": [
      "<class 'pandas.core.frame.DataFrame'>\n",
      "Index: 7033 entries, 0 to 7032\n",
      "Data columns (total 2 columns):\n",
      " #   Column  Non-Null Count  Dtype \n",
      "---  ------  --------------  ----- \n",
      " 0   Data    7033 non-null   object\n",
      " 1   Target  7033 non-null   object\n",
      "dtypes: object(2)\n",
      "memory usage: 422.9+ KB\n"
     ]
    }
   ],
   "source": [
    "df_train.info()"
   ]
  },
  {
   "cell_type": "markdown",
   "id": "4d08f3c2-6ae4-4454-a7a7-24542ad711ae",
   "metadata": {},
   "source": [
    "**Заключение**\\\n",
    "`df_train` имеет строчное представление данных"
   ]
  },
  {
   "cell_type": "markdown",
   "id": "d81de943-f2a0-477d-9285-e97289935351",
   "metadata": {},
   "source": [
    "#### df_test"
   ]
  },
  {
   "cell_type": "code",
   "execution_count": 9,
   "id": "1da3087d-bc3a-45c1-b714-c05f5bc1abf0",
   "metadata": {},
   "outputs": [
    {
     "data": {
      "text/html": [
       "<div>\n",
       "<style scoped>\n",
       "    .dataframe tbody tr th:only-of-type {\n",
       "        vertical-align: middle;\n",
       "    }\n",
       "\n",
       "    .dataframe tbody tr th {\n",
       "        vertical-align: top;\n",
       "    }\n",
       "\n",
       "    .dataframe thead th {\n",
       "        text-align: right;\n",
       "    }\n",
       "</style>\n",
       "<table border=\"1\" class=\"dataframe\">\n",
       "  <thead>\n",
       "    <tr style=\"text-align: right;\">\n",
       "      <th></th>\n",
       "      <th>Data</th>\n",
       "    </tr>\n",
       "    <tr>\n",
       "      <th>Id</th>\n",
       "      <th></th>\n",
       "    </tr>\n",
       "  </thead>\n",
       "  <tbody>\n",
       "    <tr>\n",
       "      <th>0</th>\n",
       "      <td>4814,4814,6011,6011,6010,6011,6011,4814,6011,4...</td>\n",
       "    </tr>\n",
       "    <tr>\n",
       "      <th>1</th>\n",
       "      <td>6010,6011,6010,5411,5411,5977,6011,6010,5411,6...</td>\n",
       "    </tr>\n",
       "  </tbody>\n",
       "</table>\n",
       "</div>"
      ],
      "text/plain": [
       "                                                 Data\n",
       "Id                                                   \n",
       "0   4814,4814,6011,6011,6010,6011,6011,4814,6011,4...\n",
       "1   6010,6011,6010,5411,5411,5977,6011,6010,5411,6..."
      ]
     },
     "execution_count": 9,
     "metadata": {},
     "output_type": "execute_result"
    }
   ],
   "source": [
    "df_test.head(2)"
   ]
  },
  {
   "cell_type": "code",
   "execution_count": 10,
   "id": "09b9702c-c8ea-4789-81d9-f7a83705f0f1",
   "metadata": {},
   "outputs": [
    {
     "data": {
      "text/plain": [
       "str"
      ]
     },
     "execution_count": 10,
     "metadata": {},
     "output_type": "execute_result"
    }
   ],
   "source": [
    "type(df_test.loc[0, 'Data'])"
   ]
  },
  {
   "cell_type": "code",
   "execution_count": 11,
   "id": "a9bbba16-c7ad-4b3e-9a2e-460bccf8f2bd",
   "metadata": {},
   "outputs": [
    {
     "name": "stdout",
     "output_type": "stream",
     "text": [
      "<class 'pandas.core.frame.DataFrame'>\n",
      "Index: 7033 entries, 0 to 7032\n",
      "Data columns (total 1 columns):\n",
      " #   Column  Non-Null Count  Dtype \n",
      "---  ------  --------------  ----- \n",
      " 0   Data    7033 non-null   object\n",
      "dtypes: object(1)\n",
      "memory usage: 367.9+ KB\n"
     ]
    }
   ],
   "source": [
    "df_test.info()"
   ]
  },
  {
   "cell_type": "markdown",
   "id": "8ba08b46-d7af-4d31-881b-627bbe595c15",
   "metadata": {},
   "source": [
    "**Заключение**\\\n",
    "`df_test` имеет строчное представление данных"
   ]
  },
  {
   "cell_type": "markdown",
   "id": "48915095-750c-448b-91ae-6a35203cc320",
   "metadata": {},
   "source": [
    "#### submission_baseline_2\n",
    "Посмотрим на пример вывода"
   ]
  },
  {
   "cell_type": "code",
   "execution_count": 12,
   "id": "5e1a1f51-d981-44e1-9a6b-a484925a7d97",
   "metadata": {},
   "outputs": [
    {
     "data": {
      "text/html": [
       "<div>\n",
       "<style scoped>\n",
       "    .dataframe tbody tr th:only-of-type {\n",
       "        vertical-align: middle;\n",
       "    }\n",
       "\n",
       "    .dataframe tbody tr th {\n",
       "        vertical-align: top;\n",
       "    }\n",
       "\n",
       "    .dataframe thead th {\n",
       "        text-align: right;\n",
       "    }\n",
       "</style>\n",
       "<table border=\"1\" class=\"dataframe\">\n",
       "  <thead>\n",
       "    <tr style=\"text-align: right;\">\n",
       "      <th></th>\n",
       "      <th>Predicted</th>\n",
       "    </tr>\n",
       "    <tr>\n",
       "      <th>Id</th>\n",
       "      <th></th>\n",
       "    </tr>\n",
       "  </thead>\n",
       "  <tbody>\n",
       "    <tr>\n",
       "      <th>0</th>\n",
       "      <td>[6011 4814 6010 4829 5499 5541 5411 6011 6010 ...</td>\n",
       "    </tr>\n",
       "    <tr>\n",
       "      <th>1</th>\n",
       "      <td>[6011 6010 5411 6011 6010 4814 5411 4829 5499 ...</td>\n",
       "    </tr>\n",
       "  </tbody>\n",
       "</table>\n",
       "</div>"
      ],
      "text/plain": [
       "                                            Predicted\n",
       "Id                                                   \n",
       "0   [6011 4814 6010 4829 5499 5541 5411 6011 6010 ...\n",
       "1   [6011 6010 5411 6011 6010 4814 5411 4829 5499 ..."
      ]
     },
     "execution_count": 12,
     "metadata": {},
     "output_type": "execute_result"
    }
   ],
   "source": [
    "submission_baseline_2.head(2)"
   ]
  },
  {
   "cell_type": "code",
   "execution_count": 13,
   "id": "da6cd726-c264-473d-9cae-44ee1ae112fa",
   "metadata": {},
   "outputs": [
    {
     "name": "stdout",
     "output_type": "stream",
     "text": [
      "<class 'pandas.core.frame.DataFrame'>\n",
      "Index: 7033 entries, 0 to 7032\n",
      "Data columns (total 1 columns):\n",
      " #   Column     Non-Null Count  Dtype \n",
      "---  ------     --------------  ----- \n",
      " 0   Predicted  7033 non-null   object\n",
      "dtypes: object(1)\n",
      "memory usage: 109.9+ KB\n"
     ]
    }
   ],
   "source": [
    "submission_baseline_2.info()"
   ]
  },
  {
   "cell_type": "markdown",
   "id": "676165fb-96d6-402d-ab56-2df6a2ecb4ca",
   "metadata": {},
   "source": [
    "**Заключение**\\\n",
    "`submission_baseline_2` имеет строчное представление данных"
   ]
  },
  {
   "cell_type": "markdown",
   "id": "d37dce6a-99a1-4c39-a8c6-dbe46bf5a9e1",
   "metadata": {},
   "source": [
    "#### Заключение\n",
    "Данные имеют строчный формат, для анализа и первичной оценки необходимо привести их в целочисленный вид."
   ]
  },
  {
   "cell_type": "markdown",
   "id": "26df6af3-f424-4d4b-839d-63817ae8f363",
   "metadata": {},
   "source": [
    "### Подготовка данных"
   ]
  },
  {
   "cell_type": "markdown",
   "id": "03fd8a2a-1cd8-453e-9a93-c35f8b190ef7",
   "metadata": {},
   "source": [
    "Для дальнейщего изучения данных преобразуем их в соответствующий формат"
   ]
  },
  {
   "cell_type": "code",
   "execution_count": 14,
   "id": "c96e2bb3-5d59-4466-aeab-edfa9a4905c8",
   "metadata": {},
   "outputs": [],
   "source": [
    "df_train['Data'] = df_train['Data'].apply(lambda x: list(map(int, x.split(','))))\n",
    "df_train['Target'] = df_train['Target'].apply(lambda x: list(map(int, x.split(','))))\n",
    "df_test['Data'] = df_test['Data'].apply(lambda x: list(map(int, x.split(','))))"
   ]
  },
  {
   "cell_type": "markdown",
   "id": "313eba61-6321-4245-8a9c-4eb42caa1cb3",
   "metadata": {},
   "source": [
    "#### Ознакомление с результатами"
   ]
  },
  {
   "cell_type": "markdown",
   "id": "ac9b7736-a4d4-4a96-8242-aa539e8d5231",
   "metadata": {},
   "source": [
    "Посмотрим что получилось"
   ]
  },
  {
   "cell_type": "code",
   "execution_count": 15,
   "id": "4c35c9cd-ffe7-4e78-8a67-e4c7bbb478a0",
   "metadata": {},
   "outputs": [
    {
     "data": {
      "text/html": [
       "<div>\n",
       "<style scoped>\n",
       "    .dataframe tbody tr th:only-of-type {\n",
       "        vertical-align: middle;\n",
       "    }\n",
       "\n",
       "    .dataframe tbody tr th {\n",
       "        vertical-align: top;\n",
       "    }\n",
       "\n",
       "    .dataframe thead th {\n",
       "        text-align: right;\n",
       "    }\n",
       "</style>\n",
       "<table border=\"1\" class=\"dataframe\">\n",
       "  <thead>\n",
       "    <tr style=\"text-align: right;\">\n",
       "      <th></th>\n",
       "      <th>Data</th>\n",
       "      <th>Target</th>\n",
       "    </tr>\n",
       "    <tr>\n",
       "      <th>Id</th>\n",
       "      <th></th>\n",
       "      <th></th>\n",
       "    </tr>\n",
       "  </thead>\n",
       "  <tbody>\n",
       "    <tr>\n",
       "      <th>0</th>\n",
       "      <td>[4814, 4814, 6010, 6011, 4814, 6011, 6011, 481...</td>\n",
       "      <td>[4814, 4814, 4814, 4814, 5411, 4814, 4814, 481...</td>\n",
       "    </tr>\n",
       "  </tbody>\n",
       "</table>\n",
       "</div>"
      ],
      "text/plain": [
       "                                                 Data  \\\n",
       "Id                                                      \n",
       "0   [4814, 4814, 6010, 6011, 4814, 6011, 6011, 481...   \n",
       "\n",
       "                                               Target  \n",
       "Id                                                     \n",
       "0   [4814, 4814, 4814, 4814, 5411, 4814, 4814, 481...  "
      ]
     },
     "metadata": {},
     "output_type": "display_data"
    },
    {
     "data": {
      "text/html": [
       "<div>\n",
       "<style scoped>\n",
       "    .dataframe tbody tr th:only-of-type {\n",
       "        vertical-align: middle;\n",
       "    }\n",
       "\n",
       "    .dataframe tbody tr th {\n",
       "        vertical-align: top;\n",
       "    }\n",
       "\n",
       "    .dataframe thead th {\n",
       "        text-align: right;\n",
       "    }\n",
       "</style>\n",
       "<table border=\"1\" class=\"dataframe\">\n",
       "  <thead>\n",
       "    <tr style=\"text-align: right;\">\n",
       "      <th></th>\n",
       "      <th>Data</th>\n",
       "    </tr>\n",
       "    <tr>\n",
       "      <th>Id</th>\n",
       "      <th></th>\n",
       "    </tr>\n",
       "  </thead>\n",
       "  <tbody>\n",
       "    <tr>\n",
       "      <th>0</th>\n",
       "      <td>[4814, 4814, 6011, 6011, 6010, 6011, 6011, 481...</td>\n",
       "    </tr>\n",
       "  </tbody>\n",
       "</table>\n",
       "</div>"
      ],
      "text/plain": [
       "                                                 Data\n",
       "Id                                                   \n",
       "0   [4814, 4814, 6011, 6011, 6010, 6011, 6011, 481..."
      ]
     },
     "metadata": {},
     "output_type": "display_data"
    }
   ],
   "source": [
    "display(df_train.head(1),\n",
    "        df_test.head(1)\n",
    "       )"
   ]
  },
  {
   "cell_type": "code",
   "execution_count": 16,
   "id": "e3a64ece-598a-43a0-9065-849af3944e3f",
   "metadata": {},
   "outputs": [
    {
     "data": {
      "text/plain": [
       "[4814, 4814, 6010]"
      ]
     },
     "metadata": {},
     "output_type": "display_data"
    },
    {
     "data": {
      "text/plain": [
       "[4814, 4814, 4814]"
      ]
     },
     "metadata": {},
     "output_type": "display_data"
    }
   ],
   "source": [
    "display(df_train.loc[0, 'Data'][:3],\n",
    "        df_train.loc[0, 'Target'][:3])"
   ]
  },
  {
   "cell_type": "code",
   "execution_count": 17,
   "id": "33cbe2b6-7f03-48f8-ab08-90d015841545",
   "metadata": {},
   "outputs": [
    {
     "data": {
      "text/plain": [
       "list"
      ]
     },
     "execution_count": 17,
     "metadata": {},
     "output_type": "execute_result"
    }
   ],
   "source": [
    "type(df_train.loc[0, 'Data'])"
   ]
  },
  {
   "cell_type": "markdown",
   "id": "9badf453-751b-44cf-9a34-5bb173d8b76b",
   "metadata": {},
   "source": [
    "Данные преобразованы и готовы для дальнейшего анализа"
   ]
  },
  {
   "cell_type": "code",
   "execution_count": 18,
   "id": "30e9f4a5-c75e-4f6a-aacc-75f15aca716b",
   "metadata": {},
   "outputs": [
    {
     "name": "stdout",
     "output_type": "stream",
     "text": [
      "<class 'pandas.core.frame.DataFrame'>\n",
      "Index: 7033 entries, 0 to 7032\n",
      "Data columns (total 2 columns):\n",
      " #   Column  Non-Null Count  Dtype \n",
      "---  ------  --------------  ----- \n",
      " 0   Data    7033 non-null   object\n",
      " 1   Target  7033 non-null   object\n",
      "dtypes: object(2)\n",
      "memory usage: 422.9+ KB\n"
     ]
    }
   ],
   "source": [
    "df_train.info()"
   ]
  },
  {
   "cell_type": "markdown",
   "id": "c7e34002-bd7b-48f4-a00a-312cda5cb937",
   "metadata": {},
   "source": [
    "#### Заключение\n",
    "Точки данных или строки имеют тип данных list включающий целочисленный набор значений. Данные преобразованы и готовы для дальнейшего анализа.\n"
   ]
  },
  {
   "cell_type": "markdown",
   "id": "c1aeb6c4-bf40-403c-866a-6a3a791f7357",
   "metadata": {},
   "source": [
    "## Ознакомление с данными"
   ]
  },
  {
   "cell_type": "markdown",
   "id": "0629a011-90a5-4eee-9785-72689ea12c42",
   "metadata": {
    "editable": true,
    "slideshow": {
     "slide_type": ""
    },
    "tags": []
   },
   "source": [
    "Получим общее представление о данных в обучающем наборе. "
   ]
  },
  {
   "cell_type": "code",
   "execution_count": 19,
   "id": "bb6bc0f2-8ef2-4c41-a1d6-6b53fdc1866c",
   "metadata": {},
   "outputs": [],
   "source": [
    "df_train_1 = df_train.copy()"
   ]
  },
  {
   "cell_type": "code",
   "execution_count": 20,
   "id": "27fc9b2b-3b26-4eab-bdf9-e436edc41ac3",
   "metadata": {},
   "outputs": [
    {
     "data": {
      "text/html": [
       "<div>\n",
       "<style scoped>\n",
       "    .dataframe tbody tr th:only-of-type {\n",
       "        vertical-align: middle;\n",
       "    }\n",
       "\n",
       "    .dataframe tbody tr th {\n",
       "        vertical-align: top;\n",
       "    }\n",
       "\n",
       "    .dataframe thead th {\n",
       "        text-align: right;\n",
       "    }\n",
       "</style>\n",
       "<table border=\"1\" class=\"dataframe\">\n",
       "  <thead>\n",
       "    <tr style=\"text-align: right;\">\n",
       "      <th></th>\n",
       "      <th>Data</th>\n",
       "      <th>Target</th>\n",
       "    </tr>\n",
       "    <tr>\n",
       "      <th>Id</th>\n",
       "      <th></th>\n",
       "      <th></th>\n",
       "    </tr>\n",
       "  </thead>\n",
       "  <tbody>\n",
       "    <tr>\n",
       "      <th>0</th>\n",
       "      <td>[4814, 4814, 6010, 6011, 4814, 6011, 6011, 481...</td>\n",
       "      <td>[4814, 4814, 4814, 4814, 5411, 4814, 4814, 481...</td>\n",
       "    </tr>\n",
       "    <tr>\n",
       "      <th>1</th>\n",
       "      <td>[6011, 6011, 6011, 6011, 6011, 6011, 6011, 481...</td>\n",
       "      <td>[4814, 6011, 4814, 6011, 4814, 4814, 6011, 481...</td>\n",
       "    </tr>\n",
       "    <tr>\n",
       "      <th>2</th>\n",
       "      <td>[8021, 6011, 6011, 6010, 4829, 4814, 6011, 601...</td>\n",
       "      <td>[6011, 6011, 6010, 4829, 4829, 6010, 6011, 601...</td>\n",
       "    </tr>\n",
       "    <tr>\n",
       "      <th>3</th>\n",
       "      <td>[4814, 6011, 4814, 4814, 4814, 6011, 6011, 569...</td>\n",
       "      <td>[6011, 6011, 6010, 6011, 6011, 4814, 4814, 601...</td>\n",
       "    </tr>\n",
       "    <tr>\n",
       "      <th>4</th>\n",
       "      <td>[4814, 4814, 4814, 4814, 4814, 4814, 5946, 481...</td>\n",
       "      <td>[5499, 6011, 4814, 4829, 5200, 5411, 5499, 591...</td>\n",
       "    </tr>\n",
       "  </tbody>\n",
       "</table>\n",
       "</div>"
      ],
      "text/plain": [
       "                                                 Data  \\\n",
       "Id                                                      \n",
       "0   [4814, 4814, 6010, 6011, 4814, 6011, 6011, 481...   \n",
       "1   [6011, 6011, 6011, 6011, 6011, 6011, 6011, 481...   \n",
       "2   [8021, 6011, 6011, 6010, 4829, 4814, 6011, 601...   \n",
       "3   [4814, 6011, 4814, 4814, 4814, 6011, 6011, 569...   \n",
       "4   [4814, 4814, 4814, 4814, 4814, 4814, 5946, 481...   \n",
       "\n",
       "                                               Target  \n",
       "Id                                                     \n",
       "0   [4814, 4814, 4814, 4814, 5411, 4814, 4814, 481...  \n",
       "1   [4814, 6011, 4814, 6011, 4814, 4814, 6011, 481...  \n",
       "2   [6011, 6011, 6010, 4829, 4829, 6010, 6011, 601...  \n",
       "3   [6011, 6011, 6010, 6011, 6011, 4814, 4814, 601...  \n",
       "4   [5499, 6011, 4814, 4829, 5200, 5411, 5499, 591...  "
      ]
     },
     "execution_count": 20,
     "metadata": {},
     "output_type": "execute_result"
    }
   ],
   "source": [
    "df_train.head(5)"
   ]
  },
  {
   "cell_type": "markdown",
   "id": "a28c144c-fe9f-41b5-941e-c5fe80cdf423",
   "metadata": {},
   "source": [
    "*Вероятно, что есть зависимость между количеством предсказанных кодов и исходных. Для начала стоит посмотреть, что представляет одна строка*"
   ]
  },
  {
   "cell_type": "code",
   "execution_count": 21,
   "id": "f58a8e82-5ddf-4ab2-8b55-343c01e67def",
   "metadata": {},
   "outputs": [],
   "source": [
    "def str_info(column, st=0):\n",
    "    \"\"\"Функция для вывода сводной\n",
    "    информации о строке\n",
    "    \"\"\"\n",
    "    print(f'Запрос: df_train.loc[{st}, {column}]')\n",
    "    l = len(df_train.loc[st, column])\n",
    "    print(f'Длина строки: {l}',\n",
    "          #f'Несколько элементов: {df_train.loc[st, column][:5]}',\n",
    "          sep = '\\n'\n",
    "         )\n",
    "    di = {}\n",
    "    for el in set(df_train.loc[st, column]):\n",
    "        di[el] = df_train.loc[st, column].count(el)\n",
    "    \n",
    "    di = {k: v for k, v in sorted(di.items(), key=lambda item: item[1])}\n",
    "    print('{MCC-код: к-во}', di, sep='\\n')\n"
   ]
  },
  {
   "cell_type": "code",
   "execution_count": 22,
   "id": "7f30cd55-a688-45d9-8f6c-a46593592859",
   "metadata": {},
   "outputs": [
    {
     "name": "stdout",
     "output_type": "stream",
     "text": [
      "Запрос: df_train.loc[0, Data]\n",
      "Длина строки: 216\n",
      "{MCC-код: к-во}\n",
      "{6010: 1, 5921: 2, 5411: 28, 5311: 29, 6011: 75, 4814: 81}\n"
     ]
    }
   ],
   "source": [
    "str_info('Data')"
   ]
  },
  {
   "cell_type": "code",
   "execution_count": 23,
   "id": "bed06630-068c-402e-bb2f-da1d5f3d1505",
   "metadata": {},
   "outputs": [
    {
     "name": "stdout",
     "output_type": "stream",
     "text": [
      "Запрос: df_train.loc[0, Target]\n",
      "Длина строки: 10\n",
      "{MCC-код: к-во}\n",
      "{5411: 1, 4814: 9}\n"
     ]
    }
   ],
   "source": [
    "str_info('Target')"
   ]
  },
  {
   "cell_type": "markdown",
   "id": "a98a02f1-616a-4e29-933f-80ec42caab40",
   "metadata": {},
   "source": [
    "Судя по выводу данные в строке повторяются. Попробуем определить дубликаты, учитывая последовательность. Обозначим некоторые МСС-коды особым цветом. "
   ]
  },
  {
   "cell_type": "code",
   "execution_count": 24,
   "id": "2d8582b7-df26-4db1-b570-01e2064ce8e1",
   "metadata": {},
   "outputs": [],
   "source": [
    "def duplicate_val(vars):\n",
    "    \"\"\"\n",
    "    Функция принимает индексированную строку\n",
    "    формата df.loc[index, column] и возвращает\n",
    "    подсвеченные значения\n",
    "    \"\"\"\n",
    "    def make_color(el):\n",
    "        el = str(el)\n",
    "        di = {'6011':['black', 'on_yellow'], '4814':['black', 'on_blue']}\n",
    "        return (colored(el, di[el][0], di[el][1]) if el in di else el) \n",
    "        \n",
    "    count = 0\n",
    "    num = 1\n",
    "    for el in [make_color(el) for el in vars]:\n",
    "        print(f'{num}:' if count == 0 else '', end=' ')\n",
    "        print(el, end = ' ')\n",
    "        count += 1\n",
    "        if count == 25:\n",
    "            print()\n",
    "            count = 0\n",
    "            num += 1"
   ]
  },
  {
   "cell_type": "code",
   "execution_count": 25,
   "id": "dc8c67b6-fe78-44ec-9ec4-c5e6aec3b4bf",
   "metadata": {},
   "outputs": [
    {
     "name": "stdout",
     "output_type": "stream",
     "text": [
      "1: \u001b[44m\u001b[30m4814\u001b[0m  \u001b[44m\u001b[30m4814\u001b[0m  6010  \u001b[43m\u001b[30m6011\u001b[0m  \u001b[44m\u001b[30m4814\u001b[0m  \u001b[43m\u001b[30m6011\u001b[0m  \u001b[43m\u001b[30m6011\u001b[0m  \u001b[44m\u001b[30m4814\u001b[0m  \u001b[43m\u001b[30m6011\u001b[0m  \u001b[43m\u001b[30m6011\u001b[0m  \u001b[44m\u001b[30m4814\u001b[0m  \u001b[43m\u001b[30m6011\u001b[0m  \u001b[44m\u001b[30m4814\u001b[0m  \u001b[44m\u001b[30m4814\u001b[0m  \u001b[43m\u001b[30m6011\u001b[0m  \u001b[43m\u001b[30m6011\u001b[0m  \u001b[44m\u001b[30m4814\u001b[0m  \u001b[44m\u001b[30m4814\u001b[0m  \u001b[43m\u001b[30m6011\u001b[0m  \u001b[43m\u001b[30m6011\u001b[0m  \u001b[43m\u001b[30m6011\u001b[0m  \u001b[44m\u001b[30m4814\u001b[0m  \u001b[44m\u001b[30m4814\u001b[0m  \u001b[43m\u001b[30m6011\u001b[0m  \u001b[43m\u001b[30m6011\u001b[0m \n",
      "2: \u001b[43m\u001b[30m6011\u001b[0m  \u001b[43m\u001b[30m6011\u001b[0m  \u001b[44m\u001b[30m4814\u001b[0m  \u001b[44m\u001b[30m4814\u001b[0m  \u001b[43m\u001b[30m6011\u001b[0m  \u001b[43m\u001b[30m6011\u001b[0m  \u001b[43m\u001b[30m6011\u001b[0m  \u001b[43m\u001b[30m6011\u001b[0m  \u001b[44m\u001b[30m4814\u001b[0m  \u001b[43m\u001b[30m6011\u001b[0m  \u001b[44m\u001b[30m4814\u001b[0m  \u001b[44m\u001b[30m4814\u001b[0m  \u001b[44m\u001b[30m4814\u001b[0m  \u001b[44m\u001b[30m4814\u001b[0m  \u001b[44m\u001b[30m4814\u001b[0m  \u001b[43m\u001b[30m6011\u001b[0m  \u001b[43m\u001b[30m6011\u001b[0m  \u001b[44m\u001b[30m4814\u001b[0m  \u001b[44m\u001b[30m4814\u001b[0m  \u001b[44m\u001b[30m4814\u001b[0m  \u001b[44m\u001b[30m4814\u001b[0m  \u001b[43m\u001b[30m6011\u001b[0m  \u001b[43m\u001b[30m6011\u001b[0m  \u001b[43m\u001b[30m6011\u001b[0m  \u001b[44m\u001b[30m4814\u001b[0m \n",
      "3: \u001b[43m\u001b[30m6011\u001b[0m  \u001b[43m\u001b[30m6011\u001b[0m  \u001b[44m\u001b[30m4814\u001b[0m  \u001b[43m\u001b[30m6011\u001b[0m  \u001b[44m\u001b[30m4814\u001b[0m  \u001b[43m\u001b[30m6011\u001b[0m  \u001b[43m\u001b[30m6011\u001b[0m  \u001b[44m\u001b[30m4814\u001b[0m  \u001b[43m\u001b[30m6011\u001b[0m  \u001b[43m\u001b[30m6011\u001b[0m  \u001b[44m\u001b[30m4814\u001b[0m  \u001b[43m\u001b[30m6011\u001b[0m  \u001b[44m\u001b[30m4814\u001b[0m  \u001b[44m\u001b[30m4814\u001b[0m  \u001b[44m\u001b[30m4814\u001b[0m  \u001b[43m\u001b[30m6011\u001b[0m  \u001b[43m\u001b[30m6011\u001b[0m  \u001b[44m\u001b[30m4814\u001b[0m  \u001b[43m\u001b[30m6011\u001b[0m  \u001b[44m\u001b[30m4814\u001b[0m  \u001b[43m\u001b[30m6011\u001b[0m  \u001b[43m\u001b[30m6011\u001b[0m  \u001b[43m\u001b[30m6011\u001b[0m  \u001b[43m\u001b[30m6011\u001b[0m  \u001b[43m\u001b[30m6011\u001b[0m \n",
      "4: \u001b[44m\u001b[30m4814\u001b[0m  5411  \u001b[44m\u001b[30m4814\u001b[0m  5311  \u001b[43m\u001b[30m6011\u001b[0m  \u001b[43m\u001b[30m6011\u001b[0m  \u001b[44m\u001b[30m4814\u001b[0m  \u001b[43m\u001b[30m6011\u001b[0m  \u001b[44m\u001b[30m4814\u001b[0m  \u001b[43m\u001b[30m6011\u001b[0m  \u001b[43m\u001b[30m6011\u001b[0m  \u001b[44m\u001b[30m4814\u001b[0m  5311  \u001b[44m\u001b[30m4814\u001b[0m  \u001b[44m\u001b[30m4814\u001b[0m  \u001b[44m\u001b[30m4814\u001b[0m  \u001b[43m\u001b[30m6011\u001b[0m  5411  \u001b[43m\u001b[30m6011\u001b[0m  5311  5411  \u001b[43m\u001b[30m6011\u001b[0m  5411  5411  5311 \n",
      "5: 5311  \u001b[44m\u001b[30m4814\u001b[0m  \u001b[43m\u001b[30m6011\u001b[0m  5311  5311  \u001b[44m\u001b[30m4814\u001b[0m  \u001b[43m\u001b[30m6011\u001b[0m  \u001b[44m\u001b[30m4814\u001b[0m  5311  5311  \u001b[43m\u001b[30m6011\u001b[0m  \u001b[44m\u001b[30m4814\u001b[0m  \u001b[44m\u001b[30m4814\u001b[0m  5411  \u001b[43m\u001b[30m6011\u001b[0m  \u001b[44m\u001b[30m4814\u001b[0m  \u001b[44m\u001b[30m4814\u001b[0m  \u001b[44m\u001b[30m4814\u001b[0m  5411  \u001b[43m\u001b[30m6011\u001b[0m  \u001b[43m\u001b[30m6011\u001b[0m  5411  \u001b[44m\u001b[30m4814\u001b[0m  \u001b[43m\u001b[30m6011\u001b[0m  \u001b[44m\u001b[30m4814\u001b[0m \n",
      "6: \u001b[44m\u001b[30m4814\u001b[0m  \u001b[44m\u001b[30m4814\u001b[0m  \u001b[43m\u001b[30m6011\u001b[0m  \u001b[44m\u001b[30m4814\u001b[0m  \u001b[44m\u001b[30m4814\u001b[0m  5411  5311  \u001b[43m\u001b[30m6011\u001b[0m  5311  \u001b[43m\u001b[30m6011\u001b[0m  5311  \u001b[43m\u001b[30m6011\u001b[0m  \u001b[44m\u001b[30m4814\u001b[0m  5311  \u001b[44m\u001b[30m4814\u001b[0m  5311  \u001b[43m\u001b[30m6011\u001b[0m  5411  5311  5411  \u001b[43m\u001b[30m6011\u001b[0m  5311  5411  5411  \u001b[43m\u001b[30m6011\u001b[0m \n",
      "7: \u001b[44m\u001b[30m4814\u001b[0m  \u001b[43m\u001b[30m6011\u001b[0m  \u001b[44m\u001b[30m4814\u001b[0m  5311  \u001b[44m\u001b[30m4814\u001b[0m  5311  \u001b[44m\u001b[30m4814\u001b[0m  5921  5411  5411  \u001b[43m\u001b[30m6011\u001b[0m  5311  5411  5411  \u001b[44m\u001b[30m4814\u001b[0m  5311  \u001b[44m\u001b[30m4814\u001b[0m  5311  \u001b[44m\u001b[30m4814\u001b[0m  \u001b[43m\u001b[30m6011\u001b[0m  \u001b[43m\u001b[30m6011\u001b[0m  5921  \u001b[44m\u001b[30m4814\u001b[0m  \u001b[44m\u001b[30m4814\u001b[0m  \u001b[44m\u001b[30m4814\u001b[0m \n",
      "8: \u001b[44m\u001b[30m4814\u001b[0m  5411  5411  5311  5411  5411  \u001b[43m\u001b[30m6011\u001b[0m  5311  5311  \u001b[43m\u001b[30m6011\u001b[0m  \u001b[43m\u001b[30m6011\u001b[0m  \u001b[43m\u001b[30m6011\u001b[0m  \u001b[44m\u001b[30m4814\u001b[0m  \u001b[44m\u001b[30m4814\u001b[0m  \u001b[44m\u001b[30m4814\u001b[0m  \u001b[44m\u001b[30m4814\u001b[0m  \u001b[44m\u001b[30m4814\u001b[0m  5411  5311  5411  \u001b[43m\u001b[30m6011\u001b[0m  5311  5411  5311  5411 \n",
      "9: 5311  5411  \u001b[44m\u001b[30m4814\u001b[0m  \u001b[43m\u001b[30m6011\u001b[0m  5411  5311  5411  \u001b[43m\u001b[30m6011\u001b[0m  \u001b[44m\u001b[30m4814\u001b[0m  \u001b[43m\u001b[30m6011\u001b[0m  \u001b[44m\u001b[30m4814\u001b[0m  \u001b[44m\u001b[30m4814\u001b[0m  \u001b[44m\u001b[30m4814\u001b[0m  \u001b[44m\u001b[30m4814\u001b[0m  \u001b[44m\u001b[30m4814\u001b[0m  \u001b[44m\u001b[30m4814\u001b[0m "
     ]
    }
   ],
   "source": [
    "duplicate_val(df_train.loc[0, 'Data'])"
   ]
  },
  {
   "cell_type": "markdown",
   "id": "7b1a59f6-bed4-4db0-9fe2-a406ab893ed3",
   "metadata": {},
   "source": [
    "Заметно, что имеются повторения одних и тех же кодов. Это наводит на мысли:\n",
    " - подобные повторения для каждого пользователя уникальны и возможно, есть некое среднее для всех(т.е. среднее к-во повторений для каждого кода). Тогда необходимо подготовить функцию, которая подготовит набор данных для обучения;\n",
    " - от повторений необходимо избавиться; \n",
    " - необходимо изучить распределение кодов по всей выборке, а также длину последовательностей."
   ]
  },
  {
   "cell_type": "markdown",
   "id": "9537101e-c8b9-463b-8db0-1414ddbc925b",
   "metadata": {},
   "source": [
    "### Распределение значений"
   ]
  },
  {
   "cell_type": "markdown",
   "id": "ca0afdbd-735c-4652-89c3-5b56ae91cea1",
   "metadata": {},
   "source": [
    "Посмотрим на распределение MCC кодов в наборе данных. \\\n",
    "Первые 10 значений:"
   ]
  },
  {
   "cell_type": "code",
   "execution_count": 26,
   "id": "aa0a21cb-9820-4ffb-9f2f-1ae5f361ea64",
   "metadata": {},
   "outputs": [
    {
     "name": "stdout",
     "output_type": "stream",
     "text": [
      "Data\n",
      "6011    700677\n",
      "6010    490602\n",
      "4814    473396\n",
      "5411    472408\n",
      "4829    307388\n",
      "5499    164719\n",
      "5541     68224\n",
      "5912     65071\n",
      "5331     61833\n",
      "5812     52029\n",
      "Name: count, dtype: int64\n"
     ]
    }
   ],
   "source": [
    "print(df_train['Data'].explode().value_counts()[:10])"
   ]
  },
  {
   "cell_type": "markdown",
   "id": "886ce42a-d545-42f7-b624-97bbb7f232c9",
   "metadata": {},
   "source": [
    "Получим информацию о МСС-кодах"
   ]
  },
  {
   "cell_type": "code",
   "execution_count": 27,
   "id": "ef0f0f51-8d14-40aa-a440-283727f7543d",
   "metadata": {},
   "outputs": [],
   "source": [
    "def min_max_info(df):\n",
    "    \"\"\"\n",
    "    Вывод информации \n",
    "    о диапазоне значений MCC-кодов\n",
    "    \"\"\" \n",
    "    min_max = df['Data'].explode()\n",
    "    print(\n",
    "        f'Диапазон MCC-кодов',\n",
    "        f'min: {min_max.min()}', f'max: {min_max.max()}',\n",
    "        f'К-во уникальных значений: {len(min_max.unique())}', sep='\\n'\n",
    "    )"
   ]
  },
  {
   "cell_type": "code",
   "execution_count": 28,
   "id": "5ae2cfb3-77cc-45d7-b183-defdcb8e123e",
   "metadata": {},
   "outputs": [
    {
     "name": "stdout",
     "output_type": "stream",
     "text": [
      "Диапазон MCC-кодов\n",
      "min: 742\n",
      "max: 9402\n",
      "К-во уникальных значений: 184\n"
     ]
    }
   ],
   "source": [
    "min_max_info(df_train)"
   ]
  },
  {
   "cell_type": "markdown",
   "id": "58e7fdf9-9582-4f17-900e-5c32bf96cf8b",
   "metadata": {},
   "source": [
    "Визуализируем данные"
   ]
  },
  {
   "cell_type": "code",
   "execution_count": 29,
   "id": "cd65b2f5-94e9-4e6d-a81c-b0f2fd48cfe0",
   "metadata": {},
   "outputs": [],
   "source": [
    "# построение графика плотности значений выше в разных масштабах\n",
    "def distr_values_diff_scale(df):\n",
    "    \"\"\"\n",
    "    гистограмма распределения значений\n",
    "    и гистограмма, распределения\n",
    "    редких значений в выборке\n",
    "    \"\"\"\n",
    "    # Подготовка данных\n",
    "    base = df_train['Data'].explode().value_counts().reset_index()\n",
    "    graph = base.sort_values(by='Data')\n",
    "    # Подготовка графиков\n",
    "    fig, ax = plt.subplots(1, 3, figsize=(16,6))\n",
    "    fig.suptitle('Распределение значений', fontsize=14)\n",
    "    count = 0\n",
    "    # Словарь с функциями и подписями осей для удобства построения разных графиков\n",
    "    x_min = 80000\n",
    "    make_graph = {'количество значений':[lambda x: x.plot(graph['Data'], graph['count']),\n",
    "                                         'МСС-коды',\n",
    "                                         'количество вхождений',\n",
    "                                          None, None\n",
    "                                        ],\n",
    "                  'плотность количества значений':[lambda x: x.hist(base['count']),\n",
    "                                                   'распределение к-ва MCC-кодов',\n",
    "                                                   'количество вхождений',\n",
    "                                                    None, None\n",
    "                                                  ],\n",
    "                  f'плотность количества значений(x<{x_min})':[lambda x: x.hist(base['count'], bins=250),\n",
    "                                                   'распределение к-ва MCC-кодов',\n",
    "                                                   'количество вхождений',\n",
    "                                                    0, x_min\n",
    "                  ]\n",
    "                 }\n",
    "    # Построение графиков\n",
    "    for key, value in make_graph.items():\n",
    "        value[0](ax[count])\n",
    "        ax[count].set_title(key)\n",
    "        ax[count].set_xlabel(value[1])\n",
    "        ax[count].set_ylabel(value[2])\n",
    "        ax[count].set_xlim(xmin=value[3],xmax=value[4])\n",
    "        ax[count].grid(True)\n",
    "        count += 1\n",
    "\n",
    "    fig.tight_layout()"
   ]
  },
  {
   "cell_type": "code",
   "execution_count": 30,
   "id": "82f0acf4-7235-4909-800d-bd302cc1f3f3",
   "metadata": {},
   "outputs": [
    {
     "data": {
      "image/png": "[encoded data removed]",
      "text/plain": [
       "<Figure size 1600x600 with 3 Axes>"
      ]
     },
     "metadata": {},
     "output_type": "display_data"
    }
   ],
   "source": [
    "distr_values_diff_scale(df_train)"
   ]
  },
  {
   "cell_type": "markdown",
   "id": "73772b10-1fa3-47a4-998e-fb28f3d41314",
   "metadata": {},
   "source": [
    "Можно сделать выводы:\n",
    "1. Левый график демонстрирует распределение количества MCC-кодов выборке, он эквивалентен гистограмме, на нем изображен диапазон значений и пики наиболее часто встречающихся.\n",
    "2. Средний график, это результат подсчёта количества MCC-кодов и частоты встречаемости такого количества значений в выборке. Он говорит о том, что есть набор MCC-кодов, которые специфичны для каких-то групп пользователей, а есть те, которые характерны для всех.\n",
    "3. Справа изображён тот же график, что и в середине, только в другом масштабе."
   ]
  },
  {
   "cell_type": "markdown",
   "id": "9a6579d4-efa7-4b03-89c0-ec4c2ce10193",
   "metadata": {},
   "source": [
    "Изучим, какой процент от набора данных составляют наиболее часто встречающиеся коды"
   ]
  },
  {
   "cell_type": "code",
   "execution_count": 31,
   "id": "847c2c3b-586a-42bf-b42e-8fb9e2bcc6d7",
   "metadata": {},
   "outputs": [],
   "source": [
    "def top10_distribution_MCC1(df):\n",
    "    colours = {\n",
    "        '6011':'C0', '6010':'C1', '4814':'C2', '5411':'C3',\n",
    "        '4829':'C4', '5499':'C5', '5541':'C6', '5912':'C7',\n",
    "        '5331':'C8', '5812':'C9'\n",
    "    }\n",
    "\n",
    "    fig, ax = plt.subplots(1, 2, figsize = (14, 6))\n",
    "    fig.suptitle('Распределение MCC-кодов' + '\\n' + 'df_train', color='olive', fontsize=14)\n",
    "    count = 0\n",
    "    try:\n",
    "        for el in df.columns:\n",
    "            # make data\n",
    "            some_info = df[el].explode().value_counts().head(10)\n",
    "            some_info = (\n",
    "                         round(some_info/some_info.sum()*100, 2)\n",
    "                         .reset_index()\n",
    "                         .rename(columns = {'Data':'lbl', 'Target':'lbl', 'count':'total'})\n",
    "                         .sort_values(by='total', ascending=False)\n",
    "                        )\n",
    "            lbl = list(map(str, some_info['lbl']))\n",
    "            var = list(map(int, some_info['total']))\n",
    "\n",
    "            # plot\n",
    "            ax[count].bar(lbl, var, color=[colours[key] for key in lbl], width=0.8)\n",
    "            ax[count].set_xlabel('MCC-коды')\n",
    "            ax[count].set_ylabel('% содержание в выборке')\n",
    "            ax[count].set_title(el, color='m', fontsize=12)\n",
    "            ax[count].grid()\n",
    "            count += 1\n",
    "            \n",
    "    except Exception as err:\n",
    "        print('Возникла ошибка:', err)\n",
    "    fig.tight_layout()    "
   ]
  },
  {
   "cell_type": "code",
   "execution_count": 32,
   "id": "eced4493-8ff3-499a-a14f-d51cce20a211",
   "metadata": {},
   "outputs": [
    {
     "data": {
      "image/png": "[encoded data removed]",
      "text/plain": [
       "<Figure size 1400x600 with 2 Axes>"
      ]
     },
     "metadata": {},
     "output_type": "display_data"
    }
   ],
   "source": [
    "top10_distribution_MCC1(df_train)"
   ]
  },
  {
   "cell_type": "markdown",
   "id": "2663f571-7a51-4436-9b72-f61c1dca6159",
   "metadata": {},
   "source": [
    "*Данные сложно поддаются восприятию, поэтому для очеловечивания, представим небольшой разбор происходящего.* \\\n",
    "**Расшифровка** \n",
    "* 6011 — снятие наличных;\n",
    "* 6010 — выдача наличных в кассе;\n",
    "* 4814 — телекоммуникационные услуги;\n",
    "* 5411 — бакалейные магазины, супермаркеты;\n",
    "* 4829 — денежные переводы;\n",
    "* 5499 — различные продовольственные магазины;\n",
    "* 5541 — заправочные станции;\n",
    "* 5912 — аптеки;\n",
    "* 5331 — универсальные магазины;\n",
    "* 5812 — места общественного питания, рестораны."
   ]
  },
  {
   "cell_type": "code",
   "execution_count": null,
   "id": "afc76723-7ed9-4192-8004-73409101a06a",
   "metadata": {},
   "outputs": [],
   "source": []
  },
  {
   "cell_type": "code",
   "execution_count": null,
   "id": "57354d11-2aba-4125-8718-5b4cc02fc23d",
   "metadata": {},
   "outputs": [],
   "source": []
  },
  {
   "cell_type": "code",
   "execution_count": null,
   "id": "df8db98b-7349-4636-96d2-64369d97e32b",
   "metadata": {},
   "outputs": [],
   "source": []
  },
  {
   "cell_type": "code",
   "execution_count": null,
   "id": "a9ab119c-175d-46f7-9fdd-5f12e43ef8aa",
   "metadata": {},
   "outputs": [],
   "source": []
  },
  {
   "cell_type": "code",
   "execution_count": null,
   "id": "ee0823f1-a895-4405-b4c3-1539c9ec4f0c",
   "metadata": {},
   "outputs": [],
   "source": [
    "print(df_train['Data'].explode().value_counts()[-10:])"
   ]
  },
  {
   "cell_type": "code",
   "execution_count": null,
   "id": "1735e075-0bcb-4bdc-9fd6-1e1d0f7e2ce0",
   "metadata": {},
   "outputs": [],
   "source": [
    "len(df_train['Data'].explode().unique())"
   ]
  },
  {
   "cell_type": "code",
   "execution_count": null,
   "id": "2fc24ab1-dab5-485c-a1b7-0951798178da",
   "metadata": {},
   "outputs": [],
   "source": [
    "df_train['Data'].explode().hist(bins=50) # плотность значений"
   ]
  },
  {
   "cell_type": "code",
   "execution_count": null,
   "id": "7089a4e6-c8a0-452e-b619-592b6619fee8",
   "metadata": {},
   "outputs": [],
   "source": [
    "# построение графика плотности значений выше в разных масштабах\n",
    "def distr_values_diff_scale(df):\n",
    "    \"\"\"\n",
    "    гистограмма распределения значений\n",
    "    и гистограмма, распределения\n",
    "    редких значений в выборке\n",
    "    \"\"\"\n",
    "    # Подготовка данных\n",
    "    base = df_train['Data'].explode().value_counts().reset_index()\n",
    "    graph = base.sort_values(by='Data')\n",
    "    # Подготовка графиков\n",
    "    fig, ax = plt.subplots(1, 3, figsize=(16,6))\n",
    "    fig.suptitle('Распределение значений', fontsize=14)\n",
    "    count = 0\n",
    "    # Словарь с функциями и подписями осей для удобства построения разных графиков\n",
    "    x_min = 80000\n",
    "    make_graph = {'количество значений':[lambda x: x.plot(graph['Data'], graph['count']),\n",
    "                                         'МСС-коды',\n",
    "                                         'количество вхождений',\n",
    "                                          None, None\n",
    "                                        ],\n",
    "                  'плотность количества значений':[lambda x: x.hist(base['count']),\n",
    "                                                   'распределение к-ва MCC-кодов',\n",
    "                                                   'количество вхождений',\n",
    "                                                    None, None\n",
    "                                                  ],\n",
    "                  f'плотность количества значений(x<{x_min})':[lambda x: x.hist(base['count'], bins=250),\n",
    "                                                   'распределение к-ва MCC-кодов',\n",
    "                                                   'количество вхождений',\n",
    "                                                    0, x_min\n",
    "                  ]\n",
    "                 }\n",
    "    # Построение графиков\n",
    "    for key, value in make_graph.items():\n",
    "        value[0](ax[count])\n",
    "        ax[count].set_title(key)\n",
    "        ax[count].set_xlabel(value[1])\n",
    "        ax[count].set_ylabel(value[2])\n",
    "        ax[count].set_xlim(xmin=value[3],xmax=value[4])\n",
    "        ax[count].grid(True)\n",
    "        count += 1\n",
    "\n",
    "    fig.tight_layout()\n",
    "    \n",
    "distr_values_diff_scale(df_train)"
   ]
  },
  {
   "cell_type": "code",
   "execution_count": null,
   "id": "6db75ea7-05e4-41b6-a8d4-9315e81157cf",
   "metadata": {},
   "outputs": [],
   "source": [
    "(\n",
    "    df_train['Data'].explode()\n",
    ".value_counts().reset_index().sort_values(by='Data')\n",
    ".plot('Data', 'count', legend=False, grid=True) \n",
    ")"
   ]
  },
  {
   "cell_type": "code",
   "execution_count": null,
   "id": "01b8dac9-5405-4dc0-8cb0-e845f2853eda",
   "metadata": {},
   "outputs": [],
   "source": [
    "df_train['Data'].explode().value_counts().reset_index()"
   ]
  },
  {
   "cell_type": "code",
   "execution_count": null,
   "id": "de046162-c839-427e-97ab-0c1b92965fea",
   "metadata": {},
   "outputs": [],
   "source": [
    "df_train['Data'].explode().value_counts().reset_index()"
   ]
  },
  {
   "cell_type": "code",
   "execution_count": null,
   "id": "aebb55fd-0d26-43f7-b2ec-afb635f4684a",
   "metadata": {
    "editable": true,
    "slideshow": {
     "slide_type": ""
    },
    "tags": []
   },
   "outputs": [],
   "source": [
    "for_fig = df_train['Data'].explode().value_counts().reset_index()\n",
    "len_col = len(for_fig.columns)\n",
    "\n",
    "fig, ax = plt.subplots(nrows=1, ncols=len_col, figsize=(10,4))\n",
    "fig.suptitle('Характеристики MCC-кодов', fontsize=14, fontweight='bold')\n",
    "fig.subplots_adjust(top=0.9)\n",
    "di = {'Data': ['Распределение МСС-кодов', 'Частота'], 'count':['К-во MCC-кодов', 'Распределение от параметра bins']}\n",
    "\n",
    "count = 0\n",
    "for key, value in di.items():\n",
    "    ax[count].hist(for_fig[key], bins = 20)\n",
    "    ax[count].grid()\n",
    "    ax[count].set_xlabel(value[0])\n",
    "    ax[count].set_ylabel(value[1])\n",
    "    ax[count].tick_params('x', labelrotation = 0)\n",
    "    #ax[count].xaxis.set_ticks(np.arange(fig1['year_of_release'][0], 2016.1, step))\n",
    "    count += 1\n",
    "\n",
    "fig.tight_layout();"
   ]
  },
  {
   "cell_type": "code",
   "execution_count": null,
   "id": "d7cf3ecc-a6fb-4670-a161-eb4345776c38",
   "metadata": {},
   "outputs": [],
   "source": []
  },
  {
   "cell_type": "code",
   "execution_count": null,
   "id": "6fd951ba-5549-409c-979f-1eb48e888904",
   "metadata": {},
   "outputs": [],
   "source": []
  },
  {
   "cell_type": "code",
   "execution_count": null,
   "id": "bbf5c31f-1ec2-4187-8303-09fe4d8fa7ab",
   "metadata": {},
   "outputs": [],
   "source": []
  },
  {
   "cell_type": "code",
   "execution_count": null,
   "id": "2ab36365-24c5-47ca-8ca2-76866f42c3f0",
   "metadata": {},
   "outputs": [],
   "source": []
  },
  {
   "cell_type": "code",
   "execution_count": null,
   "id": "7b91d35f-5912-4a82-a22b-de74a4f60932",
   "metadata": {},
   "outputs": [],
   "source": []
  },
  {
   "cell_type": "code",
   "execution_count": null,
   "id": "e04a040c-83e2-48c0-9727-6bc5296f566a",
   "metadata": {},
   "outputs": [],
   "source": []
  },
  {
   "cell_type": "code",
   "execution_count": null,
   "id": "b01310bb-d33c-4227-9f90-ba8fd85c8cdf",
   "metadata": {},
   "outputs": [],
   "source": []
  },
  {
   "cell_type": "code",
   "execution_count": null,
   "id": "198121ab-8250-46aa-8d67-8238425026c3",
   "metadata": {},
   "outputs": [],
   "source": []
  },
  {
   "cell_type": "code",
   "execution_count": null,
   "id": "ef92e5d4-888f-4b1d-8e21-8a167f56741b",
   "metadata": {},
   "outputs": [],
   "source": []
  },
  {
   "cell_type": "code",
   "execution_count": null,
   "id": "c3ac6491-71ac-483f-bec1-3090c9b1b508",
   "metadata": {},
   "outputs": [],
   "source": []
  },
  {
   "cell_type": "code",
   "execution_count": null,
   "id": "c0087c7b-9e01-49b7-aeec-cac29317e9b9",
   "metadata": {},
   "outputs": [],
   "source": []
  },
  {
   "cell_type": "code",
   "execution_count": null,
   "id": "1a4acff0-1e57-4d19-a006-f08ee33046c2",
   "metadata": {},
   "outputs": [],
   "source": []
  },
  {
   "cell_type": "markdown",
   "id": "a341a403-dc51-46b0-93df-217fc9499c00",
   "metadata": {},
   "source": [
    "Посмотрим на предсказания. Изучим какое значение в среднем бывет."
   ]
  },
  {
   "cell_type": "code",
   "execution_count": null,
   "id": "dad6791c-4726-4839-bec5-68e5d02904cf",
   "metadata": {},
   "outputs": [],
   "source": [
    "len([int(el) for el in submission_baseline_2.loc[0, 'Predicted'][1:-1].split()])"
   ]
  },
  {
   "cell_type": "code",
   "execution_count": null,
   "id": "ad9012c8-946e-4727-ae3e-250e3c911ac5",
   "metadata": {},
   "outputs": [],
   "source": [
    "how = submission_baseline_2['Predicted'].apply(lambda x: len([int(el) for el in x[1: -1].split()]))\n",
    "how.describe()"
   ]
  },
  {
   "cell_type": "code",
   "execution_count": null,
   "id": "0b82ac1f-4b5c-42e1-ad4c-cd6cc057a952",
   "metadata": {},
   "outputs": [],
   "source": [
    "how.hist(range=(11, 20))\n",
    "plt.title('Количество предсказаний')\n",
    "plt.xlabel('классы')\n",
    "plt.ylabel('количество');"
   ]
  },
  {
   "cell_type": "markdown",
   "id": "08b6ae67-8d54-428c-9cff-d219a42f49e7",
   "metadata": {},
   "source": [
    "### Вывод"
   ]
  },
  {
   "cell_type": "markdown",
   "id": "ea64b2ad-acba-4875-a00e-f6df1db47ac7",
   "metadata": {},
   "source": [
    "* для `df_train` и `df_test` можно сделать заключение, что необходимо преобразовать данные из строчного формата в целочисленный;\n",
    "* MCC коды напоминают токены в обработке текста, возможно это свойство получиться использовать;\n",
    "* также, вероятно, что данные подойдут для обучения нейросетью. \n"
   ]
  },
  {
   "cell_type": "code",
   "execution_count": null,
   "id": "d3f70486-876a-4e4f-ae0a-3bcfd15ec696",
   "metadata": {},
   "outputs": [],
   "source": []
  },
  {
   "cell_type": "code",
   "execution_count": null,
   "id": "7ebea768-1bce-427e-8c76-8ec45743885d",
   "metadata": {},
   "outputs": [],
   "source": []
  },
  {
   "cell_type": "code",
   "execution_count": null,
   "id": "697abb2c-a7eb-4cce-914c-ae135abfc789",
   "metadata": {},
   "outputs": [],
   "source": []
  },
  {
   "cell_type": "code",
   "execution_count": null,
   "id": "b09247d1-6472-490e-a618-a5ee551943f5",
   "metadata": {},
   "outputs": [],
   "source": []
  },
  {
   "cell_type": "code",
   "execution_count": null,
   "id": "37ba21c6-f47a-4ddf-8636-7427f647e5d4",
   "metadata": {},
   "outputs": [],
   "source": []
  },
  {
   "cell_type": "markdown",
   "id": "20ea26cb-5722-490f-9565-8e450a2779eb",
   "metadata": {},
   "source": [
    "Приведение значений из строчного формата в чиловой"
   ]
  },
  {
   "cell_type": "code",
   "execution_count": null,
   "id": "251d5e83-c5dc-4fce-9f25-10b34cdb6c73",
   "metadata": {},
   "outputs": [],
   "source": [
    "df_train.head(2)"
   ]
  },
  {
   "cell_type": "code",
   "execution_count": null,
   "id": "3943bc4c-92e9-4be5-a118-42649dc15faa",
   "metadata": {},
   "outputs": [],
   "source": [
    "df_test.head(2)"
   ]
  },
  {
   "cell_type": "code",
   "execution_count": null,
   "id": "8e06dedf-af5a-4ee9-b54e-2a27c1924fa5",
   "metadata": {},
   "outputs": [],
   "source": [
    "submission_baseline_2.head(2)"
   ]
  },
  {
   "cell_type": "markdown",
   "id": "0ff2a1d1-ff5b-4af7-ac31-ea8e6859f5b8",
   "metadata": {},
   "source": [
    "Изучим получившиеся наборы данных"
   ]
  },
  {
   "cell_type": "code",
   "execution_count": null,
   "id": "368c48fc-b53b-4e61-80c5-ca32df8625ff",
   "metadata": {},
   "outputs": [],
   "source": [
    "df_train.head()"
   ]
  },
  {
   "cell_type": "markdown",
   "id": "a7372f16-e7cc-42c3-a8a5-039cb3c4a0dc",
   "metadata": {},
   "source": [
    "Определить количество значений у каждого id, построить ящик с усами, оставить только ниболее большое количество значений или то количество значений, соответствующее выборке с предсказаниями."
   ]
  },
  {
   "cell_type": "code",
   "execution_count": null,
   "id": "de0e449f-1c14-4882-94b5-8c44918c721c",
   "metadata": {},
   "outputs": [],
   "source": [
    "# d_train = {}\n",
    "# for el in df_train.loc[0, 'Data']:\n",
    "#     if el not in d_train.keys():\n",
    "#         d_train[el] = 1\n",
    "#     else:\n",
    "#         d_train[el] += 1\n",
    "\n",
    "# #d_train\n",
    "# for key, val in d_train.items():\n",
    "#     df_train.loc[:, key] = val\n",
    "#     print(key, val)"
   ]
  },
  {
   "cell_type": "code",
   "execution_count": null,
   "id": "2b60be40-0035-41c5-ba7d-4fd0432ebf0b",
   "metadata": {},
   "outputs": [],
   "source": [
    "def make_columns(row):\n",
    "    d_train = {}\n",
    "    for el in row['Data']:\n",
    "        if el not in d_train.keys():\n",
    "            d_train[el] = 1\n",
    "        else:\n",
    "            d_train[el] += 1\n",
    "\n",
    "    \n",
    "    # display(pd.DataFrame([d_train.values()], columns=d_train.keys()))\n",
    "    new_data = pd.DataFrame([d_train.values()], columns=d_train.keys())\n",
    "    \n",
    "    # for key, val in d_train.items():\n",
    "    #     row[key] = val\n",
    "    \n",
    "    # print(key, val)\n",
    "    # print(row)\n",
    "    # # row[2] = d_train.keys()\n",
    "    \n",
    "    return row#d_train.keys()\n",
    "    \n",
    "\n",
    "    "
   ]
  },
  {
   "cell_type": "code",
   "execution_count": null,
   "id": "1bdbb575-ea57-42b6-aca6-2ae0d9112f03",
   "metadata": {},
   "outputs": [],
   "source": [
    "df_train.head(1).apply(make_columns, axis=1)"
   ]
  },
  {
   "cell_type": "code",
   "execution_count": null,
   "id": "010cf6a8-acdd-47f6-b1ba-ab366943e678",
   "metadata": {},
   "outputs": [],
   "source": [
    "df_train.head()"
   ]
  },
  {
   "cell_type": "code",
   "execution_count": null,
   "id": "59785cad-c006-4add-9dbe-98abc0c08e3d",
   "metadata": {},
   "outputs": [],
   "source": []
  },
  {
   "cell_type": "code",
   "execution_count": null,
   "id": "8025dad6-263c-4a96-bc5f-d41ecdf8b5fd",
   "metadata": {},
   "outputs": [],
   "source": []
  },
  {
   "cell_type": "code",
   "execution_count": null,
   "id": "298b4b0e-0726-4f48-aa51-388a5aae9490",
   "metadata": {},
   "outputs": [],
   "source": []
  },
  {
   "cell_type": "code",
   "execution_count": null,
   "id": "a5b9e590-a2a7-4a30-894d-be5c5b51d8a3",
   "metadata": {},
   "outputs": [],
   "source": []
  },
  {
   "cell_type": "code",
   "execution_count": null,
   "id": "ba750593-ec8d-4946-a9b6-91fc92a704a1",
   "metadata": {},
   "outputs": [],
   "source": [
    "for el in set(df_train.loc[0, 'Data']):\n",
    "    print(df_train.loc[df_train['Data'] == el, 'Data'])"
   ]
  },
  {
   "cell_type": "code",
   "execution_count": null,
   "id": "2dca041f-9ed1-4dfa-8261-c2410c14574b",
   "metadata": {},
   "outputs": [],
   "source": [
    "[i for i in range(len(df_train.loc[0, 'Data'])) if df_train.loc[0, 'Data'][i] == 4814]"
   ]
  },
  {
   "cell_type": "code",
   "execution_count": null,
   "id": "6f14e97b-211d-4706-9177-4e7cbbdf3e4d",
   "metadata": {},
   "outputs": [],
   "source": [
    "df_train.loc[0, 'Data'][0]"
   ]
  },
  {
   "cell_type": "markdown",
   "id": "95d3134c-65f5-410a-84e5-b3efbef4699b",
   "metadata": {},
   "source": [
    "Определим функцию для отображения первичной информации"
   ]
  },
  {
   "cell_type": "code",
   "execution_count": null,
   "id": "92cba4ef-6a72-4948-ab5d-2182144413ff",
   "metadata": {},
   "outputs": [],
   "source": [
    "def first_info(name):\n",
    "    display(name.head())\n",
    "    display(name.info())"
   ]
  },
  {
   "cell_type": "code",
   "execution_count": null,
   "id": "ba48c1dc-25ce-448f-b9cd-45c3379582a2",
   "metadata": {},
   "outputs": [],
   "source": [
    "top10_codes = df_train['Data'].explode().value_counts().head(10)\n",
    "top10_codes"
   ]
  },
  {
   "cell_type": "code",
   "execution_count": null,
   "id": "308349bd-514f-48fd-8a90-c28f712c9f17",
   "metadata": {},
   "outputs": [],
   "source": [
    "df_train['Data'].explode().value_counts().reset_index().hist(bins=20)"
   ]
  },
  {
   "cell_type": "code",
   "execution_count": null,
   "id": "f4294615-1666-49e0-a138-2d4cc2cade09",
   "metadata": {},
   "outputs": [],
   "source": [
    "boxplot_train = df_train['Data'].explode().value_counts().reset_index().boxplot('Data', return_type='dict')\n",
    "boxplot_train;"
   ]
  },
  {
   "cell_type": "markdown",
   "id": "ced12468-5993-4617-810c-d8b8f9e17b90",
   "metadata": {},
   "source": [
    "Получим граничные значения"
   ]
  },
  {
   "cell_type": "code",
   "execution_count": null,
   "id": "314ba730-3d54-4d84-882d-94732b8e1837",
   "metadata": {},
   "outputs": [],
   "source": [
    "[item.get_ydata()[1] for item in boxplot_train['whiskers']] "
   ]
  },
  {
   "cell_type": "markdown",
   "id": "37195fa9-e527-485b-9572-784e7eed442f",
   "metadata": {},
   "source": [
    "*Значения, которые не соответствуют диапазону удалим*"
   ]
  },
  {
   "cell_type": "markdown",
   "id": "ddc63761-a00d-4f6b-ab3b-049021fc36bd",
   "metadata": {},
   "source": [
    "Общая концепция: \n",
    "1. Избавиться от выбросов\n",
    "2. Определить количество значений у каждого id, построить ящик с усами, оставить только ниболее большое количество значений или то количество значений, соответствующее выборке с предсказаниями.\n",
    "3. Обучить модель на данных\n",
    "4. Предсказать значения для нескольких случаев(10)"
   ]
  },
  {
   "cell_type": "code",
   "execution_count": null,
   "id": "fb1a5500-355c-4819-b3c9-b9467a929298",
   "metadata": {},
   "outputs": [],
   "source": []
  },
  {
   "cell_type": "code",
   "execution_count": null,
   "id": "c125c9eb-dcea-4830-90a7-4e13410a6265",
   "metadata": {},
   "outputs": [],
   "source": [
    "first_info(submission_baseline_2)"
   ]
  },
  {
   "cell_type": "markdown",
   "id": "e3840294-89c4-41da-9189-80c424898274",
   "metadata": {},
   "source": [
    "## fgfg"
   ]
  },
  {
   "cell_type": "code",
   "execution_count": null,
   "id": "cabb67c8-7640-4ec8-afd8-f33b36e08428",
   "metadata": {},
   "outputs": [],
   "source": [
    "def str_info(num):\n",
    "    print(len(df_train.loc[num, 'Data']))\n",
    "    print(len(df_test.loc[num, 'Data']))\n",
    "    print(len(submission_baseline_2.loc[num, \"Predicted\"][1:-1].split(' ')))\n",
    "\n",
    "str_info(0)"
   ]
  },
  {
   "cell_type": "code",
   "execution_count": null,
   "id": "054c6f6e-f63a-48ed-8e0c-30a994ba4507",
   "metadata": {},
   "outputs": [],
   "source": [
    "# for i in range(5):\n",
    "#     print(i+1)\n",
    "#     str_info(i)\n",
    "#     print()"
   ]
  },
  {
   "cell_type": "code",
   "execution_count": null,
   "id": "274bfb47-e74c-43ff-8062-e111f778ab8a",
   "metadata": {},
   "outputs": [],
   "source": [
    "submission_baseline_2.columns"
   ]
  },
  {
   "cell_type": "code",
   "execution_count": null,
   "id": "0cbb9ab4-4790-45aa-ab14-88edac922a46",
   "metadata": {},
   "outputs": [],
   "source": []
  }
 ],
 "metadata": {
  "kernelspec": {
   "display_name": "Python 3 (ipykernel)",
   "language": "python",
   "name": "python3"
  },
  "language_info": {
   "codemirror_mode": {
    "name": "ipython",
    "version": 3
   },
   "file_extension": ".py",
   "mimetype": "text/x-python",
   "name": "python",
   "nbconvert_exporter": "python",
   "pygments_lexer": "ipython3",
   "version": "3.11.5"
  }
 },
 "nbformat": 4,
 "nbformat_minor": 5
}
