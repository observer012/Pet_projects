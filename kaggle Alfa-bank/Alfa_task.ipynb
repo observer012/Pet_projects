{
 "cells": [
  {
   "cell_type": "markdown",
   "id": "af835880-4228-4f43-860c-8e100afeae21",
   "metadata": {},
   "source": [
    "# Предсказание банковских транзакций"
   ]
  },
  {
   "cell_type": "markdown",
   "id": "ff49991f-8879-48d6-9f90-23de6ea98865",
   "metadata": {},
   "source": [
    "**Описание задачи**<br/>\n",
    "Одним из самых ценных источников информации о клиенте являются данные о банковских транзакциях.</br>\n",
    "В этом соревновании участникам предлагается предсказать будущие траты клиента, используя информацию о совершенных тратах.</br>\n",
    "\n",
    "**Полезная информация**</br>\n",
    "Для понимания представленных данных будет полезна следующая <a href=\"https://www.banki.ru/wikibank/mcc-kod/\">*статья*</a></br>\n",
    "\n",
    "<a href=\"https://mcc-codes.ru/code\">Описание MCC-кодов.</a></br>\n",
    "\n",
    "**BaseLine**</br>\n",
    "Для быстрого старта можно использовать решение, приведенное ниже:</br>\n",
    "https://www.kaggle.com/prampampam/baseline-popular-transactions\n",
    "\n",
    "**Формат решения задачи**</br>\n",
    "Решение ожидаем в виде файла csv. Пример: submission_file.csv из <a href=\"https://www.kaggle.com/competitions/alfabank-campus/data\">раздела Data.</a></br>\n",
    "\n",
    "**Вопросы**</br>\n",
    "https://www.kaggle.com/competitions/alfabank-campus/discussion/442418\n",
    "\n",
    "**Метрика качества**</br>\n",
    "<a href=\"https://habr.com/ru/companies/econtenta/articles/303458\">**MAP@10**</a></br>\n",
    "\n",
    "**Описание набора данных**\n",
    "\n",
    "\n"
   ]
  },
  {
   "cell_type": "markdown",
   "id": "52d123b5-16dd-4fc3-bdb8-8d478ad4be32",
   "metadata": {},
   "source": [
    "**File descriptions**</br>\n",
    "1. df_train.csv — данные для обучения предиктиного алгоритма\n",
    "2. df_test.csv — тестовый датасет\n",
    "3. submission_file.csv — пример файла сабмита клиента"
   ]
  },
  {
   "cell_type": "markdown",
   "id": "ed663ab4-bc03-4835-b717-327ca507f496",
   "metadata": {},
   "source": [
    "**Data fields** </br>\n",
    "1. df_train.csv\n",
    "   - data - история трат клиентов (последовательность mcc-кодов в хронологическом порядке);\n",
    "   - target - последовательность будущих трат клиента.\n",
    "3. df_test.csv\n",
    "   - Id - идентификатор клиента;\n",
    "   - история трат клиентов (последовательность mcc-кодов в хронологическом порядке). \n",
    "5. submission_file.scv\n",
    "   - Id - идентификатор клиента;\n",
    "   - Predicted - предсказание следующих 10 транзакций клиента."
   ]
  },
  {
   "cell_type": "markdown",
   "id": "f2392309-ba55-4fb4-b41d-5efe4199d348",
   "metadata": {},
   "source": [
    "## Подготовка и анализ"
   ]
  },
  {
   "cell_type": "markdown",
   "id": "f87dc201-410b-42ba-9594-30f2cd76cd63",
   "metadata": {},
   "source": [
    "Общая концепция: \n",
    "1. Избавиться от выбросов\n",
    "2. Определить количество значений у каждого id, построить ящик с усами, оставить только ниболее большое количество значений или то количество значений, соответствующее выборке с предсказаниями.\n",
    "3. Обучить модель на данных\n",
    "4. Предсказать значения для нескольких случаев(10)"
   ]
  },
  {
   "cell_type": "markdown",
   "id": "4ec43cf1-9428-4cf4-81ff-a1665b9695b2",
   "metadata": {},
   "source": [
    "Произведём загрузку данных, библиотек и их компонентов"
   ]
  },
  {
   "cell_type": "code",
   "execution_count": 1,
   "id": "f1691b45-1bd9-4e9c-b278-d28e1ba11090",
   "metadata": {},
   "outputs": [],
   "source": [
    "import pandas as pd\n",
    "from IPython.display import display \n",
    "import matplotlib.pyplot as plt"
   ]
  },
  {
   "cell_type": "markdown",
   "id": "1552f00b-476b-4521-aea2-7120c6d0e0eb",
   "metadata": {},
   "source": [
    "Определим функцию для загрузки файла"
   ]
  },
  {
   "cell_type": "code",
   "execution_count": 2,
   "id": "2f113d46-576f-4beb-9760-8289ed129300",
   "metadata": {},
   "outputs": [],
   "source": [
    "def download_file(name, sep=';'):\n",
    "    try:\n",
    "        data = pd.read_csv('data/' + name, index_col ='Id', sep=sep)\n",
    "        return data\n",
    "    except Exception as _:\n",
    "        print('Загрузка файла вызвала ошибку\\n', _)"
   ]
  },
  {
   "cell_type": "markdown",
   "id": "aeed7ad5-8c7c-459f-b7e2-da71acf6c9a9",
   "metadata": {},
   "source": [
    "Получим наборы данных для изучения"
   ]
  },
  {
   "cell_type": "code",
   "execution_count": 3,
   "id": "021bf506-8576-4aef-97a2-1fcc7dc7418e",
   "metadata": {},
   "outputs": [],
   "source": [
    "df_train = download_file('df_train.csv')\n",
    "df_test = download_file('df_test.csv')\n",
    "submission_baseline_2 = download_file('submission_baseline_2.csv', sep=',')"
   ]
  },
  {
   "cell_type": "markdown",
   "id": "fadd44d2-4065-4a9a-a3c5-fd0a42106128",
   "metadata": {},
   "source": [
    "### Оценка наборов данных"
   ]
  },
  {
   "cell_type": "markdown",
   "id": "2268c171-a99b-4b9f-b8d2-a391ba82a318",
   "metadata": {},
   "source": [
    "Изучим данные"
   ]
  },
  {
   "cell_type": "markdown",
   "id": "b3eb2761-9b20-48c0-b81e-293c2910a04e",
   "metadata": {},
   "source": [
    "**df_train**"
   ]
  },
  {
   "cell_type": "code",
   "execution_count": 4,
   "id": "4fe1ad33-0386-4665-99d9-ac1fbf60a879",
   "metadata": {},
   "outputs": [
    {
     "data": {
      "text/html": [
       "<div>\n",
       "<style scoped>\n",
       "    .dataframe tbody tr th:only-of-type {\n",
       "        vertical-align: middle;\n",
       "    }\n",
       "\n",
       "    .dataframe tbody tr th {\n",
       "        vertical-align: top;\n",
       "    }\n",
       "\n",
       "    .dataframe thead th {\n",
       "        text-align: right;\n",
       "    }\n",
       "</style>\n",
       "<table border=\"1\" class=\"dataframe\">\n",
       "  <thead>\n",
       "    <tr style=\"text-align: right;\">\n",
       "      <th></th>\n",
       "      <th>Data</th>\n",
       "      <th>Target</th>\n",
       "    </tr>\n",
       "    <tr>\n",
       "      <th>Id</th>\n",
       "      <th></th>\n",
       "      <th></th>\n",
       "    </tr>\n",
       "  </thead>\n",
       "  <tbody>\n",
       "    <tr>\n",
       "      <th>0</th>\n",
       "      <td>4814,4814,6010,6011,4814,6011,6011,4814,6011,6...</td>\n",
       "      <td>4814,4814,4814,4814,5411,4814,4814,4814,4814,4814</td>\n",
       "    </tr>\n",
       "    <tr>\n",
       "      <th>1</th>\n",
       "      <td>6011,6011,6011,6011,6011,6011,6011,4814,4814,4...</td>\n",
       "      <td>4814,6011,4814,6011,4814,4814,6011,4814,6011,4814</td>\n",
       "    </tr>\n",
       "    <tr>\n",
       "      <th>2</th>\n",
       "      <td>8021,6011,6011,6010,4829,4814,6011,6011,6011,6...</td>\n",
       "      <td>6011,6011,6010,4829,4829,6010,6011,6011,4814,6011</td>\n",
       "    </tr>\n",
       "    <tr>\n",
       "      <th>3</th>\n",
       "      <td>4814,6011,4814,4814,4814,6011,6011,5691,5691,5...</td>\n",
       "      <td>6011,6011,6010,6011,6011,4814,4814,6011,4814,4814</td>\n",
       "    </tr>\n",
       "    <tr>\n",
       "      <th>4</th>\n",
       "      <td>4814,4814,4814,4814,4814,4814,5946,4814,4814,6...</td>\n",
       "      <td>5499,6011,4814,4829,5200,5411,5499,5912,5411,5912</td>\n",
       "    </tr>\n",
       "  </tbody>\n",
       "</table>\n",
       "</div>"
      ],
      "text/plain": [
       "                                                 Data  \\\n",
       "Id                                                      \n",
       "0   4814,4814,6010,6011,4814,6011,6011,4814,6011,6...   \n",
       "1   6011,6011,6011,6011,6011,6011,6011,4814,4814,4...   \n",
       "2   8021,6011,6011,6010,4829,4814,6011,6011,6011,6...   \n",
       "3   4814,6011,4814,4814,4814,6011,6011,5691,5691,5...   \n",
       "4   4814,4814,4814,4814,4814,4814,5946,4814,4814,6...   \n",
       "\n",
       "                                               Target  \n",
       "Id                                                     \n",
       "0   4814,4814,4814,4814,5411,4814,4814,4814,4814,4814  \n",
       "1   4814,6011,4814,6011,4814,4814,6011,4814,6011,4814  \n",
       "2   6011,6011,6010,4829,4829,6010,6011,6011,4814,6011  \n",
       "3   6011,6011,6010,6011,6011,4814,4814,6011,4814,4814  \n",
       "4   5499,6011,4814,4829,5200,5411,5499,5912,5411,5912  "
      ]
     },
     "execution_count": 4,
     "metadata": {},
     "output_type": "execute_result"
    }
   ],
   "source": [
    "df_train.head(5)"
   ]
  },
  {
   "cell_type": "code",
   "execution_count": 5,
   "id": "bbbd0b4d-b618-4f21-a65b-901a613566db",
   "metadata": {},
   "outputs": [
    {
     "data": {
      "text/plain": [
       "'4814,4814,6010,6011,'"
      ]
     },
     "execution_count": 5,
     "metadata": {},
     "output_type": "execute_result"
    }
   ],
   "source": [
    "df_train.loc[0, 'Data'][:20]"
   ]
  },
  {
   "cell_type": "code",
   "execution_count": 6,
   "id": "663f0428-551b-45c1-9511-bdfa5ac54225",
   "metadata": {},
   "outputs": [
    {
     "name": "stdout",
     "output_type": "stream",
     "text": [
      "<class 'pandas.core.frame.DataFrame'>\n",
      "Index: 7033 entries, 0 to 7032\n",
      "Data columns (total 2 columns):\n",
      " #   Column  Non-Null Count  Dtype \n",
      "---  ------  --------------  ----- \n",
      " 0   Data    7033 non-null   object\n",
      " 1   Target  7033 non-null   object\n",
      "dtypes: object(2)\n",
      "memory usage: 422.9+ KB\n"
     ]
    }
   ],
   "source": [
    "df_train.info()"
   ]
  },
  {
   "cell_type": "markdown",
   "id": "d81de943-f2a0-477d-9285-e97289935351",
   "metadata": {},
   "source": [
    "**df_test**"
   ]
  },
  {
   "cell_type": "code",
   "execution_count": 7,
   "id": "1da3087d-bc3a-45c1-b714-c05f5bc1abf0",
   "metadata": {},
   "outputs": [
    {
     "data": {
      "text/html": [
       "<div>\n",
       "<style scoped>\n",
       "    .dataframe tbody tr th:only-of-type {\n",
       "        vertical-align: middle;\n",
       "    }\n",
       "\n",
       "    .dataframe tbody tr th {\n",
       "        vertical-align: top;\n",
       "    }\n",
       "\n",
       "    .dataframe thead th {\n",
       "        text-align: right;\n",
       "    }\n",
       "</style>\n",
       "<table border=\"1\" class=\"dataframe\">\n",
       "  <thead>\n",
       "    <tr style=\"text-align: right;\">\n",
       "      <th></th>\n",
       "      <th>Data</th>\n",
       "    </tr>\n",
       "    <tr>\n",
       "      <th>Id</th>\n",
       "      <th></th>\n",
       "    </tr>\n",
       "  </thead>\n",
       "  <tbody>\n",
       "    <tr>\n",
       "      <th>0</th>\n",
       "      <td>4814,4814,6011,6011,6010,6011,6011,4814,6011,4...</td>\n",
       "    </tr>\n",
       "    <tr>\n",
       "      <th>1</th>\n",
       "      <td>6010,6011,6010,5411,5411,5977,6011,6010,5411,6...</td>\n",
       "    </tr>\n",
       "    <tr>\n",
       "      <th>2</th>\n",
       "      <td>4814,6011,5251,6011,7832,5641,5814,4829,5311,6...</td>\n",
       "    </tr>\n",
       "    <tr>\n",
       "      <th>3</th>\n",
       "      <td>6011,4722,4722,4722,4814,6011,6011,4829,6011,6...</td>\n",
       "    </tr>\n",
       "    <tr>\n",
       "      <th>4</th>\n",
       "      <td>4814,4814,4814,6011,4814,4814,4814,4814,4814,4...</td>\n",
       "    </tr>\n",
       "  </tbody>\n",
       "</table>\n",
       "</div>"
      ],
      "text/plain": [
       "                                                 Data\n",
       "Id                                                   \n",
       "0   4814,4814,6011,6011,6010,6011,6011,4814,6011,4...\n",
       "1   6010,6011,6010,5411,5411,5977,6011,6010,5411,6...\n",
       "2   4814,6011,5251,6011,7832,5641,5814,4829,5311,6...\n",
       "3   6011,4722,4722,4722,4814,6011,6011,4829,6011,6...\n",
       "4   4814,4814,4814,6011,4814,4814,4814,4814,4814,4..."
      ]
     },
     "execution_count": 7,
     "metadata": {},
     "output_type": "execute_result"
    }
   ],
   "source": [
    "df_test.head(5)"
   ]
  },
  {
   "cell_type": "code",
   "execution_count": 8,
   "id": "a9bbba16-c7ad-4b3e-9a2e-460bccf8f2bd",
   "metadata": {},
   "outputs": [
    {
     "name": "stdout",
     "output_type": "stream",
     "text": [
      "<class 'pandas.core.frame.DataFrame'>\n",
      "Index: 7033 entries, 0 to 7032\n",
      "Data columns (total 1 columns):\n",
      " #   Column  Non-Null Count  Dtype \n",
      "---  ------  --------------  ----- \n",
      " 0   Data    7033 non-null   object\n",
      "dtypes: object(1)\n",
      "memory usage: 109.9+ KB\n"
     ]
    }
   ],
   "source": [
    "df_test.info()"
   ]
  },
  {
   "cell_type": "markdown",
   "id": "48915095-750c-448b-91ae-6a35203cc320",
   "metadata": {},
   "source": [
    "Посмотрим на пример вывода"
   ]
  },
  {
   "cell_type": "code",
   "execution_count": 9,
   "id": "5e1a1f51-d981-44e1-9a6b-a484925a7d97",
   "metadata": {},
   "outputs": [
    {
     "data": {
      "text/html": [
       "<div>\n",
       "<style scoped>\n",
       "    .dataframe tbody tr th:only-of-type {\n",
       "        vertical-align: middle;\n",
       "    }\n",
       "\n",
       "    .dataframe tbody tr th {\n",
       "        vertical-align: top;\n",
       "    }\n",
       "\n",
       "    .dataframe thead th {\n",
       "        text-align: right;\n",
       "    }\n",
       "</style>\n",
       "<table border=\"1\" class=\"dataframe\">\n",
       "  <thead>\n",
       "    <tr style=\"text-align: right;\">\n",
       "      <th></th>\n",
       "      <th>Predicted</th>\n",
       "    </tr>\n",
       "    <tr>\n",
       "      <th>Id</th>\n",
       "      <th></th>\n",
       "    </tr>\n",
       "  </thead>\n",
       "  <tbody>\n",
       "    <tr>\n",
       "      <th>0</th>\n",
       "      <td>[6011 4814 6010 4829 5499 5541 5411 6011 6010 ...</td>\n",
       "    </tr>\n",
       "    <tr>\n",
       "      <th>1</th>\n",
       "      <td>[6011 6010 5411 6011 6010 4814 5411 4829 5499 ...</td>\n",
       "    </tr>\n",
       "    <tr>\n",
       "      <th>2</th>\n",
       "      <td>[6011 6010 5499 4814 5411 5814 4829 5812 6011 ...</td>\n",
       "    </tr>\n",
       "    <tr>\n",
       "      <th>3</th>\n",
       "      <td>[6011 4814 5964 5411 4829 5912 6010 6012 5814 ...</td>\n",
       "    </tr>\n",
       "    <tr>\n",
       "      <th>4</th>\n",
       "      <td>[4814 6011 6011 6010 4814 5411 4829 5499 5541 ...</td>\n",
       "    </tr>\n",
       "  </tbody>\n",
       "</table>\n",
       "</div>"
      ],
      "text/plain": [
       "                                            Predicted\n",
       "Id                                                   \n",
       "0   [6011 4814 6010 4829 5499 5541 5411 6011 6010 ...\n",
       "1   [6011 6010 5411 6011 6010 4814 5411 4829 5499 ...\n",
       "2   [6011 6010 5499 4814 5411 5814 4829 5812 6011 ...\n",
       "3   [6011 4814 5964 5411 4829 5912 6010 6012 5814 ...\n",
       "4   [4814 6011 6011 6010 4814 5411 4829 5499 5541 ..."
      ]
     },
     "execution_count": 9,
     "metadata": {},
     "output_type": "execute_result"
    }
   ],
   "source": [
    "submission_baseline_2.head()"
   ]
  },
  {
   "cell_type": "code",
   "execution_count": 10,
   "id": "da6cd726-c264-473d-9cae-44ee1ae112fa",
   "metadata": {},
   "outputs": [
    {
     "name": "stdout",
     "output_type": "stream",
     "text": [
      "<class 'pandas.core.frame.DataFrame'>\n",
      "Index: 7033 entries, 0 to 7032\n",
      "Data columns (total 1 columns):\n",
      " #   Column     Non-Null Count  Dtype \n",
      "---  ------     --------------  ----- \n",
      " 0   Predicted  7033 non-null   object\n",
      "dtypes: object(1)\n",
      "memory usage: 109.9+ KB\n"
     ]
    }
   ],
   "source": [
    "submission_baseline_2.info()"
   ]
  },
  {
   "cell_type": "markdown",
   "id": "a341a403-dc51-46b0-93df-217fc9499c00",
   "metadata": {},
   "source": [
    "Посмотрим на предсказания. Изучим какое значение в среднем бывет."
   ]
  },
  {
   "cell_type": "code",
   "execution_count": 11,
   "id": "dad6791c-4726-4839-bec5-68e5d02904cf",
   "metadata": {},
   "outputs": [
    {
     "data": {
      "text/plain": [
       "17"
      ]
     },
     "execution_count": 11,
     "metadata": {},
     "output_type": "execute_result"
    }
   ],
   "source": [
    "len([int(el) for el in submission_baseline_2.loc[0, 'Predicted'][1:-1].split()])"
   ]
  },
  {
   "cell_type": "code",
   "execution_count": 12,
   "id": "ad9012c8-946e-4727-ae3e-250e3c911ac5",
   "metadata": {},
   "outputs": [
    {
     "data": {
      "text/plain": [
       "count    7033.000000\n",
       "mean       17.184416\n",
       "std         2.866280\n",
       "min        11.000000\n",
       "25%        15.000000\n",
       "50%        18.000000\n",
       "75%        20.000000\n",
       "max        20.000000\n",
       "Name: Predicted, dtype: float64"
      ]
     },
     "execution_count": 12,
     "metadata": {},
     "output_type": "execute_result"
    }
   ],
   "source": [
    "how = submission_baseline_2['Predicted'].apply(lambda x: len([int(el) for el in x[1: -1].split()]))\n",
    "how.describe()"
   ]
  },
  {
   "cell_type": "code",
   "execution_count": 13,
   "id": "0b82ac1f-4b5c-42e1-ad4c-cd6cc057a952",
   "metadata": {},
   "outputs": [
    {
     "data": {
      "image/png": "[encoded data removed]",
      "text/plain": [
       "<Figure size 640x480 with 1 Axes>"
      ]
     },
     "metadata": {},
     "output_type": "display_data"
    }
   ],
   "source": [
    "how.hist(range=(11, 20))\n",
    "plt.title('Количество предсказаний')\n",
    "plt.xlabel('классы')\n",
    "plt.ylabel('количество');"
   ]
  },
  {
   "cell_type": "markdown",
   "id": "08b6ae67-8d54-428c-9cff-d219a42f49e7",
   "metadata": {},
   "source": [
    "### Вывод"
   ]
  },
  {
   "cell_type": "markdown",
   "id": "ea64b2ad-acba-4875-a00e-f6df1db47ac7",
   "metadata": {},
   "source": [
    "* для `df_train` и `df_test` можно сделать заключение, что необходимо преобразовать данные из строчного формата в целочисленный;\n",
    "* MCC коды напоминают токены в обработке текста, возможно это свойство получиться использовать;\n",
    "* также, вероятно, что данные подойдут для обучения нейросетью. \n"
   ]
  },
  {
   "cell_type": "code",
   "execution_count": null,
   "id": "d3f70486-876a-4e4f-ae0a-3bcfd15ec696",
   "metadata": {},
   "outputs": [],
   "source": []
  },
  {
   "cell_type": "code",
   "execution_count": null,
   "id": "7ebea768-1bce-427e-8c76-8ec45743885d",
   "metadata": {},
   "outputs": [],
   "source": []
  },
  {
   "cell_type": "code",
   "execution_count": null,
   "id": "697abb2c-a7eb-4cce-914c-ae135abfc789",
   "metadata": {},
   "outputs": [],
   "source": []
  },
  {
   "cell_type": "code",
   "execution_count": null,
   "id": "b09247d1-6472-490e-a618-a5ee551943f5",
   "metadata": {},
   "outputs": [],
   "source": []
  },
  {
   "cell_type": "code",
   "execution_count": null,
   "id": "37ba21c6-f47a-4ddf-8636-7427f647e5d4",
   "metadata": {},
   "outputs": [],
   "source": []
  },
  {
   "cell_type": "markdown",
   "id": "20ea26cb-5722-490f-9565-8e450a2779eb",
   "metadata": {},
   "source": [
    "Приведение значений из строчного формата в чиловой"
   ]
  },
  {
   "cell_type": "code",
   "execution_count": 14,
   "id": "e106b307-5180-443d-8007-e88c1bd35371",
   "metadata": {},
   "outputs": [],
   "source": [
    "df_train['Data'] = df_train.Data.apply(lambda s: list(map(int, s.split(','))))\n",
    "df_train['Target'] = df_train.Target.apply(lambda s: list(map(int, s.split(','))))\n",
    "df_test['Data'] = df_test.Data.apply(lambda s: list(map(int, s.split(','))))"
   ]
  },
  {
   "cell_type": "code",
   "execution_count": 15,
   "id": "251d5e83-c5dc-4fce-9f25-10b34cdb6c73",
   "metadata": {},
   "outputs": [
    {
     "data": {
      "text/html": [
       "<div>\n",
       "<style scoped>\n",
       "    .dataframe tbody tr th:only-of-type {\n",
       "        vertical-align: middle;\n",
       "    }\n",
       "\n",
       "    .dataframe tbody tr th {\n",
       "        vertical-align: top;\n",
       "    }\n",
       "\n",
       "    .dataframe thead th {\n",
       "        text-align: right;\n",
       "    }\n",
       "</style>\n",
       "<table border=\"1\" class=\"dataframe\">\n",
       "  <thead>\n",
       "    <tr style=\"text-align: right;\">\n",
       "      <th></th>\n",
       "      <th>Data</th>\n",
       "      <th>Target</th>\n",
       "    </tr>\n",
       "    <tr>\n",
       "      <th>Id</th>\n",
       "      <th></th>\n",
       "      <th></th>\n",
       "    </tr>\n",
       "  </thead>\n",
       "  <tbody>\n",
       "    <tr>\n",
       "      <th>0</th>\n",
       "      <td>[4814, 4814, 6010, 6011, 4814, 6011, 6011, 481...</td>\n",
       "      <td>[4814, 4814, 4814, 4814, 5411, 4814, 4814, 481...</td>\n",
       "    </tr>\n",
       "    <tr>\n",
       "      <th>1</th>\n",
       "      <td>[6011, 6011, 6011, 6011, 6011, 6011, 6011, 481...</td>\n",
       "      <td>[4814, 6011, 4814, 6011, 4814, 4814, 6011, 481...</td>\n",
       "    </tr>\n",
       "  </tbody>\n",
       "</table>\n",
       "</div>"
      ],
      "text/plain": [
       "                                                 Data  \\\n",
       "Id                                                      \n",
       "0   [4814, 4814, 6010, 6011, 4814, 6011, 6011, 481...   \n",
       "1   [6011, 6011, 6011, 6011, 6011, 6011, 6011, 481...   \n",
       "\n",
       "                                               Target  \n",
       "Id                                                     \n",
       "0   [4814, 4814, 4814, 4814, 5411, 4814, 4814, 481...  \n",
       "1   [4814, 6011, 4814, 6011, 4814, 4814, 6011, 481...  "
      ]
     },
     "execution_count": 15,
     "metadata": {},
     "output_type": "execute_result"
    }
   ],
   "source": [
    "df_train.head(2)"
   ]
  },
  {
   "cell_type": "code",
   "execution_count": 16,
   "id": "3943bc4c-92e9-4be5-a118-42649dc15faa",
   "metadata": {},
   "outputs": [
    {
     "data": {
      "text/html": [
       "<div>\n",
       "<style scoped>\n",
       "    .dataframe tbody tr th:only-of-type {\n",
       "        vertical-align: middle;\n",
       "    }\n",
       "\n",
       "    .dataframe tbody tr th {\n",
       "        vertical-align: top;\n",
       "    }\n",
       "\n",
       "    .dataframe thead th {\n",
       "        text-align: right;\n",
       "    }\n",
       "</style>\n",
       "<table border=\"1\" class=\"dataframe\">\n",
       "  <thead>\n",
       "    <tr style=\"text-align: right;\">\n",
       "      <th></th>\n",
       "      <th>Data</th>\n",
       "    </tr>\n",
       "    <tr>\n",
       "      <th>Id</th>\n",
       "      <th></th>\n",
       "    </tr>\n",
       "  </thead>\n",
       "  <tbody>\n",
       "    <tr>\n",
       "      <th>0</th>\n",
       "      <td>[4814, 4814, 6011, 6011, 6010, 6011, 6011, 481...</td>\n",
       "    </tr>\n",
       "    <tr>\n",
       "      <th>1</th>\n",
       "      <td>[6010, 6011, 6010, 5411, 5411, 5977, 6011, 601...</td>\n",
       "    </tr>\n",
       "  </tbody>\n",
       "</table>\n",
       "</div>"
      ],
      "text/plain": [
       "                                                 Data\n",
       "Id                                                   \n",
       "0   [4814, 4814, 6011, 6011, 6010, 6011, 6011, 481...\n",
       "1   [6010, 6011, 6010, 5411, 5411, 5977, 6011, 601..."
      ]
     },
     "execution_count": 16,
     "metadata": {},
     "output_type": "execute_result"
    }
   ],
   "source": [
    "df_test.head(2)"
   ]
  },
  {
   "cell_type": "code",
   "execution_count": 17,
   "id": "8e06dedf-af5a-4ee9-b54e-2a27c1924fa5",
   "metadata": {},
   "outputs": [
    {
     "data": {
      "text/html": [
       "<div>\n",
       "<style scoped>\n",
       "    .dataframe tbody tr th:only-of-type {\n",
       "        vertical-align: middle;\n",
       "    }\n",
       "\n",
       "    .dataframe tbody tr th {\n",
       "        vertical-align: top;\n",
       "    }\n",
       "\n",
       "    .dataframe thead th {\n",
       "        text-align: right;\n",
       "    }\n",
       "</style>\n",
       "<table border=\"1\" class=\"dataframe\">\n",
       "  <thead>\n",
       "    <tr style=\"text-align: right;\">\n",
       "      <th></th>\n",
       "      <th>Predicted</th>\n",
       "    </tr>\n",
       "    <tr>\n",
       "      <th>Id</th>\n",
       "      <th></th>\n",
       "    </tr>\n",
       "  </thead>\n",
       "  <tbody>\n",
       "    <tr>\n",
       "      <th>0</th>\n",
       "      <td>[6011 4814 6010 4829 5499 5541 5411 6011 6010 ...</td>\n",
       "    </tr>\n",
       "    <tr>\n",
       "      <th>1</th>\n",
       "      <td>[6011 6010 5411 6011 6010 4814 5411 4829 5499 ...</td>\n",
       "    </tr>\n",
       "  </tbody>\n",
       "</table>\n",
       "</div>"
      ],
      "text/plain": [
       "                                            Predicted\n",
       "Id                                                   \n",
       "0   [6011 4814 6010 4829 5499 5541 5411 6011 6010 ...\n",
       "1   [6011 6010 5411 6011 6010 4814 5411 4829 5499 ..."
      ]
     },
     "execution_count": 17,
     "metadata": {},
     "output_type": "execute_result"
    }
   ],
   "source": [
    "submission_baseline_2.head(2)"
   ]
  },
  {
   "cell_type": "markdown",
   "id": "0ff2a1d1-ff5b-4af7-ac31-ea8e6859f5b8",
   "metadata": {},
   "source": [
    "Изучим получившиеся наборы данных"
   ]
  },
  {
   "cell_type": "code",
   "execution_count": 18,
   "id": "368c48fc-b53b-4e61-80c5-ca32df8625ff",
   "metadata": {},
   "outputs": [
    {
     "data": {
      "text/html": [
       "<div>\n",
       "<style scoped>\n",
       "    .dataframe tbody tr th:only-of-type {\n",
       "        vertical-align: middle;\n",
       "    }\n",
       "\n",
       "    .dataframe tbody tr th {\n",
       "        vertical-align: top;\n",
       "    }\n",
       "\n",
       "    .dataframe thead th {\n",
       "        text-align: right;\n",
       "    }\n",
       "</style>\n",
       "<table border=\"1\" class=\"dataframe\">\n",
       "  <thead>\n",
       "    <tr style=\"text-align: right;\">\n",
       "      <th></th>\n",
       "      <th>Data</th>\n",
       "      <th>Target</th>\n",
       "    </tr>\n",
       "    <tr>\n",
       "      <th>Id</th>\n",
       "      <th></th>\n",
       "      <th></th>\n",
       "    </tr>\n",
       "  </thead>\n",
       "  <tbody>\n",
       "    <tr>\n",
       "      <th>0</th>\n",
       "      <td>[4814, 4814, 6010, 6011, 4814, 6011, 6011, 481...</td>\n",
       "      <td>[4814, 4814, 4814, 4814, 5411, 4814, 4814, 481...</td>\n",
       "    </tr>\n",
       "    <tr>\n",
       "      <th>1</th>\n",
       "      <td>[6011, 6011, 6011, 6011, 6011, 6011, 6011, 481...</td>\n",
       "      <td>[4814, 6011, 4814, 6011, 4814, 4814, 6011, 481...</td>\n",
       "    </tr>\n",
       "    <tr>\n",
       "      <th>2</th>\n",
       "      <td>[8021, 6011, 6011, 6010, 4829, 4814, 6011, 601...</td>\n",
       "      <td>[6011, 6011, 6010, 4829, 4829, 6010, 6011, 601...</td>\n",
       "    </tr>\n",
       "    <tr>\n",
       "      <th>3</th>\n",
       "      <td>[4814, 6011, 4814, 4814, 4814, 6011, 6011, 569...</td>\n",
       "      <td>[6011, 6011, 6010, 6011, 6011, 4814, 4814, 601...</td>\n",
       "    </tr>\n",
       "    <tr>\n",
       "      <th>4</th>\n",
       "      <td>[4814, 4814, 4814, 4814, 4814, 4814, 5946, 481...</td>\n",
       "      <td>[5499, 6011, 4814, 4829, 5200, 5411, 5499, 591...</td>\n",
       "    </tr>\n",
       "  </tbody>\n",
       "</table>\n",
       "</div>"
      ],
      "text/plain": [
       "                                                 Data  \\\n",
       "Id                                                      \n",
       "0   [4814, 4814, 6010, 6011, 4814, 6011, 6011, 481...   \n",
       "1   [6011, 6011, 6011, 6011, 6011, 6011, 6011, 481...   \n",
       "2   [8021, 6011, 6011, 6010, 4829, 4814, 6011, 601...   \n",
       "3   [4814, 6011, 4814, 4814, 4814, 6011, 6011, 569...   \n",
       "4   [4814, 4814, 4814, 4814, 4814, 4814, 5946, 481...   \n",
       "\n",
       "                                               Target  \n",
       "Id                                                     \n",
       "0   [4814, 4814, 4814, 4814, 5411, 4814, 4814, 481...  \n",
       "1   [4814, 6011, 4814, 6011, 4814, 4814, 6011, 481...  \n",
       "2   [6011, 6011, 6010, 4829, 4829, 6010, 6011, 601...  \n",
       "3   [6011, 6011, 6010, 6011, 6011, 4814, 4814, 601...  \n",
       "4   [5499, 6011, 4814, 4829, 5200, 5411, 5499, 591...  "
      ]
     },
     "execution_count": 18,
     "metadata": {},
     "output_type": "execute_result"
    }
   ],
   "source": [
    "df_train.head()"
   ]
  },
  {
   "cell_type": "markdown",
   "id": "a7372f16-e7cc-42c3-a8a5-039cb3c4a0dc",
   "metadata": {},
   "source": [
    "Определить количество значений у каждого id, построить ящик с усами, оставить только ниболее большое количество значений или то количество значений, соответствующее выборке с предсказаниями."
   ]
  },
  {
   "cell_type": "code",
   "execution_count": 19,
   "id": "de0e449f-1c14-4882-94b5-8c44918c721c",
   "metadata": {},
   "outputs": [],
   "source": [
    "# d_train = {}\n",
    "# for el in df_train.loc[0, 'Data']:\n",
    "#     if el not in d_train.keys():\n",
    "#         d_train[el] = 1\n",
    "#     else:\n",
    "#         d_train[el] += 1\n",
    "\n",
    "# #d_train\n",
    "# for key, val in d_train.items():\n",
    "#     df_train.loc[:, key] = val\n",
    "#     print(key, val)"
   ]
  },
  {
   "cell_type": "code",
   "execution_count": 20,
   "id": "2b60be40-0035-41c5-ba7d-4fd0432ebf0b",
   "metadata": {},
   "outputs": [],
   "source": [
    "def make_columns(row):\n",
    "    d_train = {}\n",
    "    for el in row['Data']:\n",
    "        if el not in d_train.keys():\n",
    "            d_train[el] = 1\n",
    "        else:\n",
    "            d_train[el] += 1\n",
    "\n",
    "    \n",
    "    # display(pd.DataFrame([d_train.values()], columns=d_train.keys()))\n",
    "    new_data = pd.DataFrame([d_train.values()], columns=d_train.keys())\n",
    "    \n",
    "    # for key, val in d_train.items():\n",
    "    #     row[key] = val\n",
    "    \n",
    "    # print(key, val)\n",
    "    # print(row)\n",
    "    # # row[2] = d_train.keys()\n",
    "    \n",
    "    return row#d_train.keys()\n",
    "    \n",
    "\n",
    "    "
   ]
  },
  {
   "cell_type": "code",
   "execution_count": 21,
   "id": "1bdbb575-ea57-42b6-aca6-2ae0d9112f03",
   "metadata": {},
   "outputs": [
    {
     "data": {
      "text/html": [
       "<div>\n",
       "<style scoped>\n",
       "    .dataframe tbody tr th:only-of-type {\n",
       "        vertical-align: middle;\n",
       "    }\n",
       "\n",
       "    .dataframe tbody tr th {\n",
       "        vertical-align: top;\n",
       "    }\n",
       "\n",
       "    .dataframe thead th {\n",
       "        text-align: right;\n",
       "    }\n",
       "</style>\n",
       "<table border=\"1\" class=\"dataframe\">\n",
       "  <thead>\n",
       "    <tr style=\"text-align: right;\">\n",
       "      <th></th>\n",
       "      <th>Data</th>\n",
       "      <th>Target</th>\n",
       "    </tr>\n",
       "    <tr>\n",
       "      <th>Id</th>\n",
       "      <th></th>\n",
       "      <th></th>\n",
       "    </tr>\n",
       "  </thead>\n",
       "  <tbody>\n",
       "    <tr>\n",
       "      <th>0</th>\n",
       "      <td>[4814, 4814, 6010, 6011, 4814, 6011, 6011, 481...</td>\n",
       "      <td>[4814, 4814, 4814, 4814, 5411, 4814, 4814, 481...</td>\n",
       "    </tr>\n",
       "  </tbody>\n",
       "</table>\n",
       "</div>"
      ],
      "text/plain": [
       "                                                 Data  \\\n",
       "Id                                                      \n",
       "0   [4814, 4814, 6010, 6011, 4814, 6011, 6011, 481...   \n",
       "\n",
       "                                               Target  \n",
       "Id                                                     \n",
       "0   [4814, 4814, 4814, 4814, 5411, 4814, 4814, 481...  "
      ]
     },
     "execution_count": 21,
     "metadata": {},
     "output_type": "execute_result"
    }
   ],
   "source": [
    "df_train.head(1).apply(make_columns, axis=1)"
   ]
  },
  {
   "cell_type": "code",
   "execution_count": 22,
   "id": "010cf6a8-acdd-47f6-b1ba-ab366943e678",
   "metadata": {},
   "outputs": [
    {
     "data": {
      "text/html": [
       "<div>\n",
       "<style scoped>\n",
       "    .dataframe tbody tr th:only-of-type {\n",
       "        vertical-align: middle;\n",
       "    }\n",
       "\n",
       "    .dataframe tbody tr th {\n",
       "        vertical-align: top;\n",
       "    }\n",
       "\n",
       "    .dataframe thead th {\n",
       "        text-align: right;\n",
       "    }\n",
       "</style>\n",
       "<table border=\"1\" class=\"dataframe\">\n",
       "  <thead>\n",
       "    <tr style=\"text-align: right;\">\n",
       "      <th></th>\n",
       "      <th>Data</th>\n",
       "      <th>Target</th>\n",
       "    </tr>\n",
       "    <tr>\n",
       "      <th>Id</th>\n",
       "      <th></th>\n",
       "      <th></th>\n",
       "    </tr>\n",
       "  </thead>\n",
       "  <tbody>\n",
       "    <tr>\n",
       "      <th>0</th>\n",
       "      <td>[4814, 4814, 6010, 6011, 4814, 6011, 6011, 481...</td>\n",
       "      <td>[4814, 4814, 4814, 4814, 5411, 4814, 4814, 481...</td>\n",
       "    </tr>\n",
       "    <tr>\n",
       "      <th>1</th>\n",
       "      <td>[6011, 6011, 6011, 6011, 6011, 6011, 6011, 481...</td>\n",
       "      <td>[4814, 6011, 4814, 6011, 4814, 4814, 6011, 481...</td>\n",
       "    </tr>\n",
       "    <tr>\n",
       "      <th>2</th>\n",
       "      <td>[8021, 6011, 6011, 6010, 4829, 4814, 6011, 601...</td>\n",
       "      <td>[6011, 6011, 6010, 4829, 4829, 6010, 6011, 601...</td>\n",
       "    </tr>\n",
       "    <tr>\n",
       "      <th>3</th>\n",
       "      <td>[4814, 6011, 4814, 4814, 4814, 6011, 6011, 569...</td>\n",
       "      <td>[6011, 6011, 6010, 6011, 6011, 4814, 4814, 601...</td>\n",
       "    </tr>\n",
       "    <tr>\n",
       "      <th>4</th>\n",
       "      <td>[4814, 4814, 4814, 4814, 4814, 4814, 5946, 481...</td>\n",
       "      <td>[5499, 6011, 4814, 4829, 5200, 5411, 5499, 591...</td>\n",
       "    </tr>\n",
       "  </tbody>\n",
       "</table>\n",
       "</div>"
      ],
      "text/plain": [
       "                                                 Data  \\\n",
       "Id                                                      \n",
       "0   [4814, 4814, 6010, 6011, 4814, 6011, 6011, 481...   \n",
       "1   [6011, 6011, 6011, 6011, 6011, 6011, 6011, 481...   \n",
       "2   [8021, 6011, 6011, 6010, 4829, 4814, 6011, 601...   \n",
       "3   [4814, 6011, 4814, 4814, 4814, 6011, 6011, 569...   \n",
       "4   [4814, 4814, 4814, 4814, 4814, 4814, 5946, 481...   \n",
       "\n",
       "                                               Target  \n",
       "Id                                                     \n",
       "0   [4814, 4814, 4814, 4814, 5411, 4814, 4814, 481...  \n",
       "1   [4814, 6011, 4814, 6011, 4814, 4814, 6011, 481...  \n",
       "2   [6011, 6011, 6010, 4829, 4829, 6010, 6011, 601...  \n",
       "3   [6011, 6011, 6010, 6011, 6011, 4814, 4814, 601...  \n",
       "4   [5499, 6011, 4814, 4829, 5200, 5411, 5499, 591...  "
      ]
     },
     "execution_count": 22,
     "metadata": {},
     "output_type": "execute_result"
    }
   ],
   "source": [
    "df_train.head()"
   ]
  },
  {
   "cell_type": "code",
   "execution_count": null,
   "id": "59785cad-c006-4add-9dbe-98abc0c08e3d",
   "metadata": {},
   "outputs": [],
   "source": []
  },
  {
   "cell_type": "code",
   "execution_count": null,
   "id": "8025dad6-263c-4a96-bc5f-d41ecdf8b5fd",
   "metadata": {},
   "outputs": [],
   "source": []
  },
  {
   "cell_type": "code",
   "execution_count": null,
   "id": "298b4b0e-0726-4f48-aa51-388a5aae9490",
   "metadata": {},
   "outputs": [],
   "source": []
  },
  {
   "cell_type": "code",
   "execution_count": null,
   "id": "a5b9e590-a2a7-4a30-894d-be5c5b51d8a3",
   "metadata": {},
   "outputs": [],
   "source": []
  },
  {
   "cell_type": "code",
   "execution_count": 23,
   "id": "ba750593-ec8d-4946-a9b6-91fc92a704a1",
   "metadata": {},
   "outputs": [
    {
     "name": "stdout",
     "output_type": "stream",
     "text": [
      "Series([], Name: Data, dtype: object)\n",
      "Series([], Name: Data, dtype: object)\n",
      "Series([], Name: Data, dtype: object)\n",
      "Series([], Name: Data, dtype: object)\n",
      "Series([], Name: Data, dtype: object)\n",
      "Series([], Name: Data, dtype: object)\n"
     ]
    }
   ],
   "source": [
    "for el in set(df_train.loc[0, 'Data']):\n",
    "    print(df_train.loc[df_train['Data'] == el, 'Data'])"
   ]
  },
  {
   "cell_type": "code",
   "execution_count": 24,
   "id": "2dca041f-9ed1-4dfa-8261-c2410c14574b",
   "metadata": {},
   "outputs": [
    {
     "data": {
      "text/plain": [
       "[0,\n",
       " 1,\n",
       " 4,\n",
       " 7,\n",
       " 10,\n",
       " 12,\n",
       " 13,\n",
       " 16,\n",
       " 17,\n",
       " 21,\n",
       " 22,\n",
       " 27,\n",
       " 28,\n",
       " 33,\n",
       " 35,\n",
       " 36,\n",
       " 37,\n",
       " 38,\n",
       " 39,\n",
       " 42,\n",
       " 43,\n",
       " 44,\n",
       " 45,\n",
       " 49,\n",
       " 52,\n",
       " 54,\n",
       " 57,\n",
       " 60,\n",
       " 62,\n",
       " 63,\n",
       " 64,\n",
       " 67,\n",
       " 69,\n",
       " 75,\n",
       " 77,\n",
       " 81,\n",
       " 83,\n",
       " 86,\n",
       " 88,\n",
       " 89,\n",
       " 90,\n",
       " 101,\n",
       " 105,\n",
       " 107,\n",
       " 111,\n",
       " 112,\n",
       " 115,\n",
       " 116,\n",
       " 117,\n",
       " 122,\n",
       " 124,\n",
       " 125,\n",
       " 126,\n",
       " 128,\n",
       " 129,\n",
       " 137,\n",
       " 139,\n",
       " 150,\n",
       " 152,\n",
       " 154,\n",
       " 156,\n",
       " 164,\n",
       " 166,\n",
       " 168,\n",
       " 172,\n",
       " 173,\n",
       " 174,\n",
       " 175,\n",
       " 187,\n",
       " 188,\n",
       " 189,\n",
       " 190,\n",
       " 191,\n",
       " 202,\n",
       " 208,\n",
       " 210,\n",
       " 211,\n",
       " 212,\n",
       " 213,\n",
       " 214,\n",
       " 215]"
      ]
     },
     "execution_count": 24,
     "metadata": {},
     "output_type": "execute_result"
    }
   ],
   "source": [
    "[i for i in range(len(df_train.loc[0, 'Data'])) if df_train.loc[0, 'Data'][i] == 4814]"
   ]
  },
  {
   "cell_type": "code",
   "execution_count": 25,
   "id": "6f14e97b-211d-4706-9177-4e7cbbdf3e4d",
   "metadata": {},
   "outputs": [
    {
     "data": {
      "text/plain": [
       "4814"
      ]
     },
     "execution_count": 25,
     "metadata": {},
     "output_type": "execute_result"
    }
   ],
   "source": [
    "df_train.loc[0, 'Data'][0]"
   ]
  },
  {
   "cell_type": "markdown",
   "id": "95d3134c-65f5-410a-84e5-b3efbef4699b",
   "metadata": {},
   "source": [
    "Определим функцию для отображения первичной информации"
   ]
  },
  {
   "cell_type": "code",
   "execution_count": 26,
   "id": "92cba4ef-6a72-4948-ab5d-2182144413ff",
   "metadata": {},
   "outputs": [],
   "source": [
    "def first_info(name):\n",
    "    display(name.head())\n",
    "    display(name.info())"
   ]
  },
  {
   "cell_type": "code",
   "execution_count": 27,
   "id": "ba48c1dc-25ce-448f-b9cd-45c3379582a2",
   "metadata": {},
   "outputs": [
    {
     "data": {
      "text/plain": [
       "Data\n",
       "6011    700677\n",
       "6010    490602\n",
       "4814    473396\n",
       "5411    472408\n",
       "4829    307388\n",
       "5499    164719\n",
       "5541     68224\n",
       "5912     65071\n",
       "5331     61833\n",
       "5812     52029\n",
       "Name: count, dtype: int64"
      ]
     },
     "execution_count": 27,
     "metadata": {},
     "output_type": "execute_result"
    }
   ],
   "source": [
    "top10_codes = df_train['Data'].explode().value_counts().head(10)\n",
    "top10_codes"
   ]
  },
  {
   "cell_type": "code",
   "execution_count": 28,
   "id": "308349bd-514f-48fd-8a90-c28f712c9f17",
   "metadata": {},
   "outputs": [
    {
     "data": {
      "text/plain": [
       "array([[<Axes: title={'center': 'Data'}>,\n",
       "        <Axes: title={'center': 'count'}>]], dtype=object)"
      ]
     },
     "execution_count": 28,
     "metadata": {},
     "output_type": "execute_result"
    },
    {
     "data": {
      "image/png": "[encoded data removed]",
      "text/plain": [
       "<Figure size 640x480 with 2 Axes>"
      ]
     },
     "metadata": {},
     "output_type": "display_data"
    }
   ],
   "source": [
    "df_train['Data'].explode().value_counts().reset_index().hist(bins=20)"
   ]
  },
  {
   "cell_type": "code",
   "execution_count": 29,
   "id": "f4294615-1666-49e0-a138-2d4cc2cade09",
   "metadata": {},
   "outputs": [
    {
     "data": {
      "image/png": "[encoded data removed]",
      "text/plain": [
       "<Figure size 640x480 with 1 Axes>"
      ]
     },
     "metadata": {},
     "output_type": "display_data"
    }
   ],
   "source": [
    "boxplot_train = df_train['Data'].explode().value_counts().reset_index().boxplot('Data', return_type='dict')\n",
    "boxplot_train;"
   ]
  },
  {
   "cell_type": "markdown",
   "id": "ced12468-5993-4617-810c-d8b8f9e17b90",
   "metadata": {},
   "source": [
    "Получим граничные значения"
   ]
  },
  {
   "cell_type": "code",
   "execution_count": 30,
   "id": "314ba730-3d54-4d84-882d-94732b8e1837",
   "metadata": {},
   "outputs": [
    {
     "data": {
      "text/plain": [
       "[2741.0, 9402.0]"
      ]
     },
     "execution_count": 30,
     "metadata": {},
     "output_type": "execute_result"
    }
   ],
   "source": [
    "[item.get_ydata()[1] for item in boxplot_train['whiskers']] "
   ]
  },
  {
   "cell_type": "markdown",
   "id": "37195fa9-e527-485b-9572-784e7eed442f",
   "metadata": {},
   "source": [
    "*Значения, которые не соответствуют диапазону удалим*"
   ]
  },
  {
   "cell_type": "markdown",
   "id": "ddc63761-a00d-4f6b-ab3b-049021fc36bd",
   "metadata": {},
   "source": [
    "Общая концепция: \n",
    "1. Избавиться от выбросов\n",
    "2. Определить количество значений у каждого id, построить ящик с усами, оставить только ниболее большое количество значений или то количество значений, соответствующее выборке с предсказаниями.\n",
    "3. Обучить модель на данных\n",
    "4. Предсказать значения для нескольких случаев(10)"
   ]
  },
  {
   "cell_type": "code",
   "execution_count": null,
   "id": "fb1a5500-355c-4819-b3c9-b9467a929298",
   "metadata": {},
   "outputs": [],
   "source": []
  },
  {
   "cell_type": "code",
   "execution_count": 31,
   "id": "c125c9eb-dcea-4830-90a7-4e13410a6265",
   "metadata": {},
   "outputs": [
    {
     "data": {
      "text/html": [
       "<div>\n",
       "<style scoped>\n",
       "    .dataframe tbody tr th:only-of-type {\n",
       "        vertical-align: middle;\n",
       "    }\n",
       "\n",
       "    .dataframe tbody tr th {\n",
       "        vertical-align: top;\n",
       "    }\n",
       "\n",
       "    .dataframe thead th {\n",
       "        text-align: right;\n",
       "    }\n",
       "</style>\n",
       "<table border=\"1\" class=\"dataframe\">\n",
       "  <thead>\n",
       "    <tr style=\"text-align: right;\">\n",
       "      <th></th>\n",
       "      <th>Predicted</th>\n",
       "    </tr>\n",
       "    <tr>\n",
       "      <th>Id</th>\n",
       "      <th></th>\n",
       "    </tr>\n",
       "  </thead>\n",
       "  <tbody>\n",
       "    <tr>\n",
       "      <th>0</th>\n",
       "      <td>[6011 4814 6010 4829 5499 5541 5411 6011 6010 ...</td>\n",
       "    </tr>\n",
       "    <tr>\n",
       "      <th>1</th>\n",
       "      <td>[6011 6010 5411 6011 6010 4814 5411 4829 5499 ...</td>\n",
       "    </tr>\n",
       "    <tr>\n",
       "      <th>2</th>\n",
       "      <td>[6011 6010 5499 4814 5411 5814 4829 5812 6011 ...</td>\n",
       "    </tr>\n",
       "    <tr>\n",
       "      <th>3</th>\n",
       "      <td>[6011 4814 5964 5411 4829 5912 6010 6012 5814 ...</td>\n",
       "    </tr>\n",
       "    <tr>\n",
       "      <th>4</th>\n",
       "      <td>[4814 6011 6011 6010 4814 5411 4829 5499 5541 ...</td>\n",
       "    </tr>\n",
       "  </tbody>\n",
       "</table>\n",
       "</div>"
      ],
      "text/plain": [
       "                                            Predicted\n",
       "Id                                                   \n",
       "0   [6011 4814 6010 4829 5499 5541 5411 6011 6010 ...\n",
       "1   [6011 6010 5411 6011 6010 4814 5411 4829 5499 ...\n",
       "2   [6011 6010 5499 4814 5411 5814 4829 5812 6011 ...\n",
       "3   [6011 4814 5964 5411 4829 5912 6010 6012 5814 ...\n",
       "4   [4814 6011 6011 6010 4814 5411 4829 5499 5541 ..."
      ]
     },
     "metadata": {},
     "output_type": "display_data"
    },
    {
     "name": "stdout",
     "output_type": "stream",
     "text": [
      "<class 'pandas.core.frame.DataFrame'>\n",
      "Index: 7033 entries, 0 to 7032\n",
      "Data columns (total 1 columns):\n",
      " #   Column     Non-Null Count  Dtype \n",
      "---  ------     --------------  ----- \n",
      " 0   Predicted  7033 non-null   object\n",
      "dtypes: object(1)\n",
      "memory usage: 367.9+ KB\n"
     ]
    },
    {
     "data": {
      "text/plain": [
       "None"
      ]
     },
     "metadata": {},
     "output_type": "display_data"
    }
   ],
   "source": [
    "first_info(submission_baseline_2)"
   ]
  },
  {
   "cell_type": "markdown",
   "id": "e3840294-89c4-41da-9189-80c424898274",
   "metadata": {},
   "source": [
    "## fgfg"
   ]
  },
  {
   "cell_type": "code",
   "execution_count": 32,
   "id": "cabb67c8-7640-4ec8-afd8-f33b36e08428",
   "metadata": {},
   "outputs": [
    {
     "name": "stdout",
     "output_type": "stream",
     "text": [
      "216\n",
      "224\n",
      "17\n"
     ]
    }
   ],
   "source": [
    "def str_info(num):\n",
    "    print(len(df_train.loc[num, 'Data']))\n",
    "    print(len(df_test.loc[num, 'Data']))\n",
    "    print(len(submission_baseline_2.loc[num, \"Predicted\"][1:-1].split(' ')))\n",
    "\n",
    "str_info(0)"
   ]
  },
  {
   "cell_type": "code",
   "execution_count": 33,
   "id": "054c6f6e-f63a-48ed-8e0c-30a994ba4507",
   "metadata": {},
   "outputs": [],
   "source": [
    "# for i in range(5):\n",
    "#     print(i+1)\n",
    "#     str_info(i)\n",
    "#     print()"
   ]
  },
  {
   "cell_type": "code",
   "execution_count": 34,
   "id": "274bfb47-e74c-43ff-8062-e111f778ab8a",
   "metadata": {},
   "outputs": [
    {
     "data": {
      "text/plain": [
       "Index(['Predicted'], dtype='object')"
      ]
     },
     "execution_count": 34,
     "metadata": {},
     "output_type": "execute_result"
    }
   ],
   "source": [
    "submission_baseline_2.columns"
   ]
  },
  {
   "cell_type": "code",
   "execution_count": null,
   "id": "0cbb9ab4-4790-45aa-ab14-88edac922a46",
   "metadata": {},
   "outputs": [],
   "source": []
  }
 ],
 "metadata": {
  "kernelspec": {
   "display_name": "Python 3 (ipykernel)",
   "language": "python",
   "name": "python3"
  },
  "language_info": {
   "codemirror_mode": {
    "name": "ipython",
    "version": 3
   },
   "file_extension": ".py",
   "mimetype": "text/x-python",
   "name": "python",
   "nbconvert_exporter": "python",
   "pygments_lexer": "ipython3",
   "version": "3.11.5"
  }
 },
 "nbformat": 4,
 "nbformat_minor": 5
}
